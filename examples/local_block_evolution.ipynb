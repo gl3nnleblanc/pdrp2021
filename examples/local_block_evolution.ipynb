{
 "cells": [
  {
   "cell_type": "code",
   "execution_count": 1,
   "metadata": {},
   "outputs": [],
   "source": [
    "using LinearAlgebra\n",
    "\n",
    "include(\"../src/tebd.jl\")\n",
    "using .TimeEvolvingBlockDecimation\n",
    "using .TimeEvolvingBlockDecimation.MatrixProductState"
   ]
  },
  {
   "cell_type": "markdown",
   "metadata": {},
   "source": [
    "Let's initialize a 12 qubit state in the $|0\\cdots0\\rangle$ state. Normally we would work with the representation \n",
    "$$|\\psi\\rangle=\\left(\\begin{matrix}\n",
    "    1\\\\\n",
    "    0\\\\\n",
    "    0\\\\\n",
    "    \\vdots\\\\\n",
    "    0\n",
    "\\end{matrix}\\right)$$\n",
    "with $$|\\psi\\rangle\\in C^{\\left(2^{12}\\right)}$$\n",
    "But instead we'll expand the tensor products implicit in $$|00\\cdots0\\rangle=|0\\rangle\\otimes|0\\rangle\\otimes\\cdots$$ explicitly by writing out the full tensor. In other words we will instead use\n",
    "    $$|\\psi\\rangle\\in C^{2\\times2\\times\\cdots\\times2}$$\n",
    "    with\n",
    "    $$(|\\psi\\rangle)_{00\\cdots0}=1.$$"
   ]
  },
  {
   "cell_type": "code",
   "execution_count": 2,
   "metadata": {},
   "outputs": [],
   "source": [
    "sites = 10 # TODO: revert to 12 when back in Berkeley (laptop can't handle)\n",
    "ψ = zeros((2 for _=1:sites)...)\n",
    "ψ[(1 for _=1:sites)...] = 1;"
   ]
  },
  {
   "cell_type": "markdown",
   "metadata": {},
   "source": [
    "Now we convert $|\\psi\\rangle$ into an MPS:"
   ]
  },
  {
   "cell_type": "code",
   "execution_count": 3,
   "metadata": {},
   "outputs": [],
   "source": [
    "ψ_mps = mps(ψ);"
   ]
  },
  {
   "cell_type": "markdown",
   "metadata": {},
   "source": [
    "With this representation, it is much less constly to apply local operators to the state $|\\psi\\rangle$. Instead of calculating the matrix exponential $e^{-i\\hat{H}t}$ using the full hamiltonian $\\hat{H}$, we can apply one- or two-local operators at each site in the chain, reinforce the maximum allowed bond dimension, and repeat for each site or pair of sites that is included in $\\hat{H}$."
   ]
  },
  {
   "cell_type": "code",
   "execution_count": 4,
   "metadata": {},
   "outputs": [],
   "source": [
    "# Define Pauli basis and tensor product shorthand.\n",
    "# Use t=π/6 for this example.\n",
    "⊗ = kron\n",
    "I = [1 0; 0 1]\n",
    "σ_x = [0 1; 1 0]\n",
    "σ_y = [0 -1im; 1im 0]\n",
    "σ_z = [1 0; 0 -1]\n",
    "\n",
    "t = π / 6;"
   ]
  },
  {
   "cell_type": "markdown",
   "metadata": {},
   "source": [
    "First, let's calculate the time-evolved state\n",
    "$$|\\psi(t)\\rangle = exp\\left\\{-i\\hat{H}t\\right\\}|\\psi\\rangle,$$\n",
    "where the Hamiltonian\n",
    "$$\\hat{H}=\\sum_i\\sigma_x^{(i)}$$\n",
    "is a time-independent sum of single-qubit operators. The extremely naive method to calculate $|\\psi(t)\\rangle$ is to first calculate the matrix exponential, then do a matrix-vector multiplication. Let's do it this way first:"
   ]
  },
  {
   "cell_type": "code",
   "execution_count": 6,
   "metadata": {},
   "outputs": [
    {
     "name": "stdout",
     "output_type": "stream",
     "text": [
      "  4.196261 seconds (37 allocations: 248.045 MiB, 0.87% gc time)\n"
     ]
    },
    {
     "data": {
      "text/plain": [
       "1024-element Vector{ComplexF64}:\n",
       "     0.2373046875000001 + 0.0im\n",
       "                    0.0 - 0.137007925208085im\n",
       "                    0.0 - 0.13700792520808497im\n",
       "   -0.07910156249999999 + 0.0im\n",
       "                    0.0 - 0.1370079252080851im\n",
       "   -0.07910156249999994 + 0.0im\n",
       "   -0.07910156250000007 + 0.0im\n",
       "                    0.0 + 0.045669308402695im\n",
       "                    0.0 - 0.13700792520808497im\n",
       "          -0.0791015625 + 0.0im\n",
       "   -0.07910156250000004 + 0.0im\n",
       "                    0.0 + 0.04566930840269503im\n",
       "   -0.07910156249999994 + 0.0im\n",
       "                        ⋮\n",
       "                    0.0 + 0.005074367600299446im\n",
       "  0.0029296874999999913 + 0.0im\n",
       "   0.002929687499999991 + 0.0im\n",
       "                    0.0 - 0.001691455866766455im\n",
       "                    0.0 + 0.005074367600299432im\n",
       "  0.0029296874999999883 + 0.0im\n",
       "  0.0029296874999999822 + 0.0im\n",
       "                    0.0 - 0.0016914558667664552im\n",
       "  0.0029296874999999853 + 0.0im\n",
       "                    0.0 - 0.0016914558667664656im\n",
       "                    0.0 - 0.0016914558667664543im\n",
       " -0.0009765624999999783 + 0.0im"
      ]
     },
     "execution_count": 6,
     "metadata": {},
     "output_type": "execute_result"
    }
   ],
   "source": [
    "# The not as fast way\n",
    "\n",
    "# Helper function for calculating H. We only use local terms in this example.\n",
    "function ising_matrix(sites::Integer, local_only::Bool = false)\n",
    "        I = [\n",
    "            1 0\n",
    "            0 1\n",
    "        ]\n",
    "        identity_string = [I for _ = 1:sites]\n",
    "        local_term = zeros(2^sites, 2^sites)\n",
    "        interaction_term = zeros(2^sites, 2^sites)\n",
    "\n",
    "        for i = 1:sites\n",
    "            pauli_string = copy(identity_string)\n",
    "            pauli_string[i] = σ_x\n",
    "            local_term += reduce(kron, pauli_string)\n",
    "        end\n",
    "\n",
    "        for i = 1:sites-1\n",
    "            pauli_string = copy(identity_string)\n",
    "            pauli_string[i] = σ_z\n",
    "            pauli_string[i+1] = σ_z\n",
    "            interaction_term += reduce(kron, pauli_string)\n",
    "        end\n",
    "        if local_only\n",
    "            return local_term\n",
    "        end\n",
    "        return interaction_term + local_term\n",
    "end\n",
    "\n",
    "# Only use local terms for H:\n",
    "H = ising_matrix(sites, true)\n",
    "ψ_vect = zeros(2^sites)\n",
    "ψ_vect[1] = 1\n",
    "\n",
    "# Naive method: do the matrix exponential followed by a matrix-vector multiplication.\n",
    "@time ψ_res_vect = exp(H * t * -1im) * ψ_vect"
   ]
  },
  {
   "cell_type": "markdown",
   "metadata": {},
   "source": [
    "Thanks to the `@time` macro, we can see that this calculation takes about 20 seconds and uses a whole lot of memory. Pretty bad, but this is an extremeley naive way of doing things, especially since our initial state is unentangled and the Hamiltonian we're time-evolving under doesn't generate additional entanglement. Using block evolution on a MPS representation of $|\\psi\\rangle$ effectively takes advantage of this structure. With this method, we only do twelve $2\\times2$ matrix-vector multiplications, and since our initial state was unentangled the result is exact. Were our initial state (or system Hamiltonian) more highly entangled (entangling) the MPS representation (block evolution) would do a poorer job approximating the full matrix multiplication."
   ]
  },
  {
   "cell_type": "code",
   "execution_count": 8,
   "metadata": {},
   "outputs": [
    {
     "name": "stdout",
     "output_type": "stream",
     "text": [
      "  0.034609 seconds (48.34 k allocations: 5.986 MiB, 77.27% gc time)\n"
     ]
    },
    {
     "data": {
      "text/plain": [
       "1024-element Vector{ComplexF64}:\n",
       "    0.2373046875000009 + 0.0im\n",
       "                   0.0 - 0.13700792520808547im\n",
       "                   0.0 - 0.13700792520808547im\n",
       "  -0.07910156250000024 + 0.0im\n",
       "                   0.0 - 0.13700792520808552im\n",
       "  -0.07910156250000026 + 0.0im\n",
       "  -0.07910156250000026 + 0.0im\n",
       "                   0.0 + 0.04566930840269513im\n",
       "                   0.0 - 0.13700792520808555im\n",
       "  -0.07910156250000028 + 0.0im\n",
       "  -0.07910156250000026 + 0.0im\n",
       "                   0.0 + 0.04566930840269514im\n",
       "  -0.07910156250000026 + 0.0im\n",
       "                       ⋮\n",
       "                   0.0 + 0.005074367600299462im\n",
       " 0.0029296875000000082 + 0.0im\n",
       " 0.0029296875000000087 + 0.0im\n",
       "                   0.0 - 0.001691455866766486im\n",
       "                   0.0 + 0.005074367600299463im\n",
       " 0.0029296875000000087 + 0.0im\n",
       "  0.002929687500000009 + 0.0im\n",
       "                   0.0 - 0.0016914558667664862im\n",
       " 0.0029296875000000087 + 0.0im\n",
       "                   0.0 - 0.001691455866766486im\n",
       "                   0.0 - 0.001691455866766486im\n",
       " -0.000976562500000002 + 0.0im"
      ]
     },
     "execution_count": 8,
     "metadata": {},
     "output_type": "execute_result"
    }
   ],
   "source": [
    "# The fast way\n",
    "local_only_ising = Hamiltonian(0 * (σ_z ⊗ σ_z), σ_x)\n",
    "@time ψ_res = reshape(contract_mps(block_evolve(ψ_mps, local_only_ising, t * -1im)), 2^sites)"
   ]
  },
  {
   "cell_type": "markdown",
   "metadata": {},
   "source": [
    "To prove the two results are equal:"
   ]
  },
  {
   "cell_type": "code",
   "execution_count": 9,
   "metadata": {},
   "outputs": [
    {
     "data": {
      "text/plain": [
       "1.0000000000000029 + 0.0im"
      ]
     },
     "execution_count": 9,
     "metadata": {},
     "output_type": "execute_result"
    }
   ],
   "source": [
    "dot(ψ_res_vect, ψ_res)"
   ]
  },
  {
   "cell_type": "markdown",
   "metadata": {},
   "source": [
    "Let's switch to a full 1D Ising model. Now\n",
    "$$\\hat{H}=\\sum_{i=1}^{N-1}\\sigma_z^{(i)}\\sigma_z^{(i+1)}+J\\sum_{i=1}^N\\sigma_x^{(i)}$$\n",
    "where $J$ tunes the relative strength of the transverse field. For this example we set $J=1.$\n",
    "\n",
    "Since now $\\hat{H}$ generates entanglement, the fidelity of the block-evolved state will not be as high as $t$ grows."
   ]
  },
  {
   "cell_type": "code",
   "execution_count": 10,
   "metadata": {},
   "outputs": [
    {
     "name": "stdout",
     "output_type": "stream",
     "text": [
      "  5.026258 seconds (41 allocations: 280.045 MiB, 2.88% gc time)\n"
     ]
    },
    {
     "data": {
      "text/plain": [
       "1024-element Vector{ComplexF64}:\n",
       "     0.2602045137070336 + 0.2813759452698945im\n",
       "    0.19716848263720943 - 0.028506423577333146im\n",
       "    0.14237969451763452 + 0.06916214188218567im\n",
       "    0.02853140304332385 - 0.10164902485893475im\n",
       "    0.14220403968075787 + 0.06325618373067858im\n",
       "     0.0717332409468644 - 0.04057177294676267im\n",
       "     0.0741391665573922 - 0.0589484220455397im\n",
       "   -0.04277587496395974 - 0.03547508091993412im\n",
       "    0.14242537104033834 + 0.06353640387577862im\n",
       "    0.06898902429473938 - 0.04225693786342524im\n",
       "    0.06480771479875375 + 0.0057809195873058826im\n",
       " -0.0042641749124536395 - 0.04345957173698785im\n",
       "    0.07094605569298025 - 0.059527306974765985im\n",
       "                        ⋮\n",
       "  0.0033473078142319413 + 2.0544933593724354e-5im\n",
       "  0.0010649408015829542 - 0.0014178677059549227im\n",
       "  0.0009457353322052501 - 0.0018174064642030529im\n",
       "  -0.001155991580815673 - 0.0003227554157262753im\n",
       "  0.0030557260553333862 - 0.0029817107066037723im\n",
       " -0.0003768111807027146 - 0.0021826572117196797im\n",
       "  0.0007949929044846517 - 0.0016072104470284184im\n",
       " -0.0011561249288920853 - 0.00032315791531994427im\n",
       " -0.0007789555359913073 - 0.002103756437725166im\n",
       " -0.0011480465224608422 - 0.00032340570440627715im\n",
       " -0.0012011806514854975 - 0.00010820703511888485im\n",
       "    6.40907943569741e-5 + 0.000702233670251918im"
      ]
     },
     "execution_count": 10,
     "metadata": {},
     "output_type": "execute_result"
    }
   ],
   "source": [
    "# The not as fast way\n",
    "t = π/6\n",
    "# Set H to the full ising matrix as above:\n",
    "H = ising_matrix(sites, false)\n",
    "ψ_vect = zeros(2^sites)\n",
    "ψ_vect[1] = 1\n",
    "\n",
    "# Naive method: do the matrix exponential followed by a matrix-vector multiplication.\n",
    "@time ψ_res_vect = exp(H * t * -1im) * ψ_vect"
   ]
  },
  {
   "cell_type": "code",
   "execution_count": 11,
   "metadata": {
    "scrolled": false
   },
   "outputs": [
    {
     "name": "stdout",
     "output_type": "stream",
     "text": [
      "  0.005125 seconds (48.34 k allocations: 5.989 MiB)\n"
     ]
    },
    {
     "data": {
      "text/plain": [
       "1024-element Vector{ComplexF64}:\n",
       "     0.16105293192095316 + 0.2844221366739287im\n",
       "     0.14898949454161498 + 0.11581650754419004im\n",
       "    0.049692800431491976 + 0.1489450411651847im\n",
       "     0.08599345961117927 - 0.02869015170590819im\n",
       "     0.04969280043149184 + 0.14894504116518478im\n",
       "    0.059557624502061104 + 0.06834390436958543im\n",
       "     0.07277554205662023 + 0.019826876331838605im\n",
       "     0.01144705238737645 - 0.04201697879681059im\n",
       "     0.04969280043149189 + 0.14894504116518473im\n",
       "     0.05955762450206112 + 0.06834390436958539im\n",
       "    0.009688861100079826 + 0.074803145102972im\n",
       "      0.0431876159614315 - 0.0055938665642719584im\n",
       "     0.07277554205662023 + 0.019826876331838623im\n",
       "                         ⋮\n",
       "   0.0011595722836621732 + 0.0020084381103515543im\n",
       "   0.0010639702969013139 + 0.0008128823502584728im\n",
       "   0.0011117712902817434 + 7.170149007064395e-5im\n",
       "    4.139687459358372e-5 - 0.0006418814537214617im\n",
       "    0.002299932210963807 - 0.00029789821939910023im\n",
       "   0.0011595722836621716 - 0.0006694793701171839im\n",
       "    0.001111771290281743 + 7.170149007064419e-5im\n",
       "    4.139687459358394e-5 - 0.0006418814537214616im\n",
       "   0.0004937903332504957 - 0.0009986729256175149im\n",
       "   4.1396874593583626e-5 - 0.0006418814537214615im\n",
       "  -0.0002675936039220401 - 0.00046348571777343506im\n",
       " -0.00026759360392203954 + 0.00015449523925781185im"
      ]
     },
     "execution_count": 11,
     "metadata": {},
     "output_type": "execute_result"
    }
   ],
   "source": [
    "ising = Hamiltonian(σ_z ⊗ σ_z, σ_x)\n",
    "@time ψ_res = reshape(contract_mps(block_evolve(ψ_mps, ising, t * -1im)), 2^sites)"
   ]
  },
  {
   "cell_type": "code",
   "execution_count": 12,
   "metadata": {},
   "outputs": [
    {
     "data": {
      "text/plain": [
       "0.3897138280372172 + 0.7468023667473049im"
      ]
     },
     "execution_count": 12,
     "metadata": {},
     "output_type": "execute_result"
    }
   ],
   "source": [
    "dot(ψ_res_vect, ψ_res)"
   ]
  },
  {
   "cell_type": "markdown",
   "metadata": {},
   "source": [
    "The single-pass TEBD state $|\\psi\\rangle$ is not a very good approximation to the true time-evolved target state $|\\phi\\rangle$. This is expected since even disregarding the fact that we used a matrix product state, \n",
    "    $$e^{-i\\left(\\sum_{i=1}^NZ_iZ_{i+1}+\\sum_{i=1}^NX_i\\right)t}\\neq\\prod_{i=1}^{N-1}e^{-iZ_iZ_{i+1}t}\\prod_{i=1}^{N}e^{-iX_it}$$\n",
    "More succinctly, a single pass of TEBD is essentially a [Trotter Decomposition](https://en.wikipedia.org/wiki/Time-evolving_block_decimation#The_Suzuki%E2%80%93Trotter_expansion) for approximating time evolution under $\\hat{H}$.\n",
    "\n",
    "To better approximate the target state $|\\phi\\rangle$, we can instead do ten passes of block evolution and increase the bond dimension of $|\\psi\\rangle$, sacrificing memory and runtime:"
   ]
  },
  {
   "cell_type": "code",
   "execution_count": 13,
   "metadata": {},
   "outputs": [
    {
     "name": "stdout",
     "output_type": "stream",
     "text": [
      "  1.335698 seconds (12.72 M allocations: 2.119 GiB, 15.50% gc time, 14.57% compilation time)\n"
     ]
    },
    {
     "data": {
      "text/plain": [
       "0.99585064530724 - 0.07634417930545673im"
      ]
     },
     "execution_count": 13,
     "metadata": {},
     "output_type": "execute_result"
    }
   ],
   "source": [
    "ψ_mps_high_χ = mps(ψ, 2^(sites ÷ 2))\n",
    "@time ψ_res_better = reshape(contract_mps(tebd(ψ_mps_high_χ, ising, t * -1im, 10)), 2^sites)\n",
    "dot(ψ_res_better, ψ_res_vect)"
   ]
  },
  {
   "cell_type": "markdown",
   "metadata": {},
   "source": [
    "Let's visualize time evolution under the two Hamiltonians we've just discussed. We'll evaluate the expectation value $\\langle\\sigma_z\\rangle$ on each site in the chain over a time period that amounts to a single full rotation under $\\hat{H}$. We can plot the resulting values under a few different bond dimensions $\\chi$:"
   ]
  },
  {
   "cell_type": "code",
   "execution_count": 16,
   "metadata": {},
   "outputs": [
    {
     "name": "stderr",
     "output_type": "stream",
     "text": [
      "┌ Info: Precompiling Plots [91a5bcdd-55d7-5caf-9e0b-520d859cae80]\n",
      "└ @ Base loading.jl:1317\n"
     ]
    },
    {
     "data": {
      "text/plain": [
       "run_simulation (generic function with 1 method)"
      ]
     },
     "execution_count": 16,
     "metadata": {},
     "output_type": "execute_result"
    }
   ],
   "source": [
    "using Images, ColorSchemes, Plots\n",
    "\n",
    "# Simulate time evolution under a 1D ising with and without local\n",
    "# interactions. Evolve\n",
    "function run_simulation(χ)\n",
    "    ψ_mps_med_χ = mps(ψ, χ)\n",
    "    \n",
    "    ψ_evolved = ψ_mps_med_χ\n",
    "    ising_vals = []\n",
    "    res = 50\n",
    "    println(\"Ising model\")\n",
    "    @time for t in 1:res\n",
    "        ψ_evolved = tebd(ψ_evolved, ising, -1im * 2 * π / res, 20)\n",
    "        expectations = []\n",
    "        for site in 1:sites\n",
    "            push!(expectations, eval_local_op(ψ_evolved, σ_z, site))\n",
    "        end\n",
    "        push!(ising_vals, expectations)\n",
    "    end\n",
    "\n",
    "    ψ_evolved = ψ_mps_med_χ\n",
    "    local_vals = []\n",
    "    println(\"Transverse magnetic field\")\n",
    "    @time for t in 1:res\n",
    "        ψ_evolved = tebd(ψ_evolved, local_only_ising, -1im * 2 * π / res, 10)\n",
    "        expectations = []\n",
    "        for site in 1:sites\n",
    "            push!(expectations, eval_local_op(ψ_evolved, σ_z, site))\n",
    "        end\n",
    "        push!(local_vals, expectations)\n",
    "    end\n",
    "    \n",
    "    ising_sites_over_time = real.(transpose(hcat(ising_vals...)))\n",
    "    local_sites_over_time = real.(transpose(hcat(local_vals...)))\n",
    "\n",
    "    function colormap(x)\n",
    "        return get(ColorSchemes.linear_protanopic_deuteranopic_kbjyw_5_95_c25_n256, x)\n",
    "    end\n",
    "\n",
    "    ising_visual = colormap.(ising_sites_over_time)\n",
    "    local_visual = colormap.(local_sites_over_time)\n",
    "\n",
    "    display(\"Expectation of σ_z for each site over time\")\n",
    "    display(\"Local interation only (σ_x):\")\n",
    "    display(local_visual)\n",
    "    display(\"Ising model:\")\n",
    "    display(ising_visual)\n",
    "    return local_sites_over_time[:, 1]\n",
    "end"
   ]
  },
  {
   "cell_type": "code",
   "execution_count": 17,
   "metadata": {},
   "outputs": [
    {
     "name": "stdout",
     "output_type": "stream",
     "text": [
      "Ising model\n",
      "  3.757236 seconds (24.10 M allocations: 5.114 GiB, 13.19% gc time, 25.66% compilation time)\n",
      "Transverse magnetic field\n"
     ]
    },
    {
     "data": {
      "text/plain": [
       "\"Expectation of σ_z for each site over time\""
      ]
     },
     "metadata": {},
     "output_type": "display_data"
    },
    {
     "data": {
      "text/plain": [
       "\"Local interation only (σ_x):\""
      ]
     },
     "metadata": {},
     "output_type": "display_data"
    },
    {
     "name": "stdout",
     "output_type": "stream",
     "text": [
      "  1.346163 seconds (11.72 M allocations: 2.537 GiB, 14.89% gc time)\n"
     ]
    },
    {
     "name": "stderr",
     "output_type": "stream",
     "text": [
      "┌ Info: Precompiling PNGFiles [f57f5aa1-a3ce-4bc8-8ab9-96f992907883]\n",
      "└ @ Base loading.jl:1317\n"
     ]
    },
    {
     "data": {
      "image/png": "[encoded data removed]",
      "text/plain": [
       "50×10 Array{RGB{Float64},2} with eltype RGB{Float64}:\n",
       " RGB{Float64}(0.933213,0.910584,0.857582)   …  RGB{Float64}(0.933213,0.910584,0.857582)\n",
       " RGB{Float64}(0.882958,0.816371,0.632424)      RGB{Float64}(0.882958,0.816371,0.632424)\n",
       " RGB{Float64}(0.758343,0.67292,0.384207)       RGB{Float64}(0.758343,0.67292,0.384207)\n",
       " RGB{Float64}(0.52454,0.495922,0.438288)       RGB{Float64}(0.52454,0.495922,0.438288)\n",
       " RGB{Float64}(0.114937,0.302008,0.546718)      RGB{Float64}(0.114937,0.302008,0.546718)\n",
       " RGB{Float64}(0.0772383,0.112132,0.185894)  …  RGB{Float64}(0.0772383,0.112132,0.185894)\n",
       " RGB{Float64}(0.066001,0.066024,0.066019)      RGB{Float64}(0.066001,0.066024,0.066019)\n",
       " RGB{Float64}(0.066001,0.066024,0.066019)      RGB{Float64}(0.066001,0.066024,0.066019)\n",
       " RGB{Float64}(0.066001,0.066024,0.066019)      RGB{Float64}(0.066001,0.066024,0.066019)\n",
       " RGB{Float64}(0.066001,0.066024,0.066019)      RGB{Float64}(0.066001,0.066024,0.066019)\n",
       " RGB{Float64}(0.066001,0.066024,0.066019)   …  RGB{Float64}(0.066001,0.066024,0.066019)\n",
       " RGB{Float64}(0.066001,0.066024,0.066019)      RGB{Float64}(0.066001,0.066024,0.066019)\n",
       " RGB{Float64}(0.066001,0.066024,0.066019)      RGB{Float64}(0.066001,0.066024,0.066019)\n",
       " ⋮                                          ⋱  \n",
       " RGB{Float64}(0.066001,0.066024,0.066019)      RGB{Float64}(0.066001,0.066024,0.066019)\n",
       " RGB{Float64}(0.066001,0.066024,0.066019)      RGB{Float64}(0.066001,0.066024,0.066019)\n",
       " RGB{Float64}(0.066001,0.066024,0.066019)   …  RGB{Float64}(0.066001,0.066024,0.066019)\n",
       " RGB{Float64}(0.066001,0.066024,0.066019)      RGB{Float64}(0.066001,0.066024,0.066019)\n",
       " RGB{Float64}(0.066001,0.066024,0.066019)      RGB{Float64}(0.066001,0.066024,0.066019)\n",
       " RGB{Float64}(0.0772383,0.112132,0.185894)     RGB{Float64}(0.0772383,0.112132,0.185894)\n",
       " RGB{Float64}(0.114937,0.302008,0.546718)      RGB{Float64}(0.114937,0.302008,0.546718)\n",
       " RGB{Float64}(0.52454,0.495922,0.438288)    …  RGB{Float64}(0.52454,0.495922,0.438288)\n",
       " RGB{Float64}(0.758343,0.67292,0.384207)       RGB{Float64}(0.758343,0.67292,0.384207)\n",
       " RGB{Float64}(0.882958,0.816371,0.632424)      RGB{Float64}(0.882958,0.816371,0.632424)\n",
       " RGB{Float64}(0.933213,0.910584,0.857582)      RGB{Float64}(0.933213,0.910584,0.857582)\n",
       " RGB{Float64}(0.94334,0.94353,0.94348)         RGB{Float64}(0.94334,0.94353,0.94348)"
      ]
     },
     "metadata": {},
     "output_type": "display_data"
    },
    {
     "data": {
      "text/plain": [
       "\"Ising model:\""
      ]
     },
     "metadata": {},
     "output_type": "display_data"
    },
    {
     "data": {
      "image/png": "[encoded data removed]",
      "text/plain": [
       "50×10 Array{RGB{Float64},2} with eltype RGB{Float64}:\n",
       " RGB{Float64}(0.933275,0.910755,0.858021)    …  RGB{Float64}(0.933275,0.910755,0.858021)\n",
       " RGB{Float64}(0.88471,0.818948,0.638088)        RGB{Float64}(0.88471,0.818947,0.638088)\n",
       " RGB{Float64}(0.770492,0.684771,0.397842)       RGB{Float64}(0.770486,0.684765,0.397835)\n",
       " RGB{Float64}(0.574982,0.529327,0.408184)       RGB{Float64}(0.574864,0.529248,0.408258)\n",
       " RGB{Float64}(0.297886,0.371664,0.540232)       RGB{Float64}(0.296614,0.37113,0.540646)\n",
       " RGB{Float64}(0.0,0.233817,0.45808)          …  RGB{Float64}(0.0,0.23162,0.454213)\n",
       " RGB{Float64}(0.0736006,0.126188,0.222213)      RGB{Float64}(0.0755574,0.119823,0.205999)\n",
       " RGB{Float64}(0.066001,0.066024,0.066019)       RGB{Float64}(0.066001,0.066024,0.066019)\n",
       " RGB{Float64}(0.066001,0.066024,0.066019)       RGB{Float64}(0.066001,0.066024,0.066019)\n",
       " RGB{Float64}(0.066001,0.066024,0.066019)       RGB{Float64}(0.066001,0.066024,0.066019)\n",
       " RGB{Float64}(0.066001,0.066024,0.066019)    …  RGB{Float64}(0.066001,0.066024,0.066019)\n",
       " RGB{Float64}(0.066001,0.066024,0.066019)       RGB{Float64}(0.066001,0.066024,0.066019)\n",
       " RGB{Float64}(0.0773115,0.0919246,0.131936)     RGB{Float64}(0.066001,0.066024,0.066019)\n",
       " ⋮                                           ⋱  \n",
       " RGB{Float64}(0.066001,0.066024,0.066019)       RGB{Float64}(0.229498,0.345567,0.557687)\n",
       " RGB{Float64}(0.066001,0.066024,0.066019)       RGB{Float64}(0.136415,0.310341,0.552307)\n",
       " RGB{Float64}(0.066001,0.066024,0.066019)    …  RGB{Float64}(0.000384763,0.249939,0.484694)\n",
       " RGB{Float64}(0.066001,0.066024,0.066019)       RGB{Float64}(0.0438302,0.168421,0.324675)\n",
       " RGB{Float64}(0.066001,0.066024,0.066019)       RGB{Float64}(0.0712931,0.0752102,0.0900634)\n",
       " RGB{Float64}(0.066001,0.066024,0.066019)       RGB{Float64}(0.066001,0.066024,0.066019)\n",
       " RGB{Float64}(0.066001,0.066024,0.066019)       RGB{Float64}(0.066001,0.066024,0.066019)\n",
       " RGB{Float64}(0.066001,0.066024,0.066019)    …  RGB{Float64}(0.066001,0.066024,0.066019)\n",
       " RGB{Float64}(0.066001,0.066024,0.066019)       RGB{Float64}(0.066001,0.066024,0.066019)\n",
       " RGB{Float64}(0.066001,0.066024,0.066019)       RGB{Float64}(0.066001,0.066024,0.066019)\n",
       " RGB{Float64}(0.066001,0.066024,0.066019)       RGB{Float64}(0.066001,0.066024,0.066019)\n",
       " RGB{Float64}(0.066001,0.066024,0.066019)       RGB{Float64}(0.066001,0.066024,0.066019)"
      ]
     },
     "metadata": {},
     "output_type": "display_data"
    },
    {
     "name": "stderr",
     "output_type": "stream",
     "text": [
      "┌ Info: Precompiling GR_jll [d2c73de3-f751-5644-a686-071e5b155ba9]\n",
      "└ @ Base loading.jl:1317\n",
      "\u001b[33m\u001b[1m┌ \u001b[22m\u001b[39m\u001b[33m\u001b[1mWarning: \u001b[22m\u001b[39mModule FFMPEG_jll with build ID 1445466721403 is missing from the cache.\n",
      "\u001b[33m\u001b[1m│ \u001b[22m\u001b[39mThis may mean FFMPEG_jll [b22a6f82-2f65-5046-a5b2-351ab43fb4e5] does not support precompilation but is imported by a module that does.\n",
      "\u001b[33m\u001b[1m└ \u001b[22m\u001b[39m\u001b[90m@ Base loading.jl:1008\u001b[39m\n"
     ]
    },
    {
     "data": {
      "image/svg+xml": [
       "<?xml version=\"1.0\" encoding=\"utf-8\"?>\n",
       "<svg xmlns=\"http://www.w3.org/2000/svg\" xmlns:xlink=\"http://www.w3.org/1999/xlink\" width=\"600\" height=\"400\" viewBox=\"0 0 2400 1600\">\n",
       "<defs>\n",
       "  <clipPath id=\"clip350\">\n",
       "    <rect x=\"0\" y=\"0\" width=\"2400\" height=\"1600\"/>\n",
       "  </clipPath>\n",
       "</defs>\n",
       "<path clip-path=\"url(#clip350)\" d=\"\n",
       "M0 1600 L2400 1600 L2400 0 L0 0  Z\n",
       "  \" fill=\"#ffffff\" fill-rule=\"evenodd\" fill-opacity=\"1\"/>\n",
       "<defs>\n",
       "  <clipPath id=\"clip351\">\n",
       "    <rect x=\"480\" y=\"0\" width=\"1681\" height=\"1600\"/>\n",
       "  </clipPath>\n",
       "</defs>\n",
       "<path clip-path=\"url(#clip350)\" d=\"\n",
       "M193.936 1486.45 L2352.76 1486.45 L2352.76 123.472 L193.936 123.472  Z\n",
       "  \" fill=\"#ffffff\" fill-rule=\"evenodd\" fill-opacity=\"1\"/>\n",
       "<defs>\n",
       "  <clipPath id=\"clip352\">\n",
       "    <rect x=\"193\" y=\"123\" width=\"2160\" height=\"1364\"/>\n",
       "  </clipPath>\n",
       "</defs>\n",
       "<polyline clip-path=\"url(#clip352)\" style=\"stroke:#000000; stroke-width:2; stroke-opacity:0.1; fill:none\" points=\"\n",
       "  213.471,1486.45 213.471,123.472 \n",
       "  \"/>\n",
       "<polyline clip-path=\"url(#clip352)\" style=\"stroke:#000000; stroke-width:2; stroke-opacity:0.1; fill:none\" points=\"\n",
       "  629.108,1486.45 629.108,123.472 \n",
       "  \"/>\n",
       "<polyline clip-path=\"url(#clip352)\" style=\"stroke:#000000; stroke-width:2; stroke-opacity:0.1; fill:none\" points=\"\n",
       "  1044.75,1486.45 1044.75,123.472 \n",
       "  \"/>\n",
       "<polyline clip-path=\"url(#clip352)\" style=\"stroke:#000000; stroke-width:2; stroke-opacity:0.1; fill:none\" points=\"\n",
       "  1460.38,1486.45 1460.38,123.472 \n",
       "  \"/>\n",
       "<polyline clip-path=\"url(#clip352)\" style=\"stroke:#000000; stroke-width:2; stroke-opacity:0.1; fill:none\" points=\"\n",
       "  1876.02,1486.45 1876.02,123.472 \n",
       "  \"/>\n",
       "<polyline clip-path=\"url(#clip352)\" style=\"stroke:#000000; stroke-width:2; stroke-opacity:0.1; fill:none\" points=\"\n",
       "  2291.66,1486.45 2291.66,123.472 \n",
       "  \"/>\n",
       "<polyline clip-path=\"url(#clip350)\" style=\"stroke:#000000; stroke-width:4; stroke-opacity:1; fill:none\" points=\"\n",
       "  193.936,1486.45 2352.76,1486.45 \n",
       "  \"/>\n",
       "<polyline clip-path=\"url(#clip350)\" style=\"stroke:#000000; stroke-width:4; stroke-opacity:1; fill:none\" points=\"\n",
       "  213.471,1486.45 213.471,1470.09 \n",
       "  \"/>\n",
       "<polyline clip-path=\"url(#clip350)\" style=\"stroke:#000000; stroke-width:4; stroke-opacity:1; fill:none\" points=\"\n",
       "  629.108,1486.45 629.108,1470.09 \n",
       "  \"/>\n",
       "<polyline clip-path=\"url(#clip350)\" style=\"stroke:#000000; stroke-width:4; stroke-opacity:1; fill:none\" points=\"\n",
       "  1044.75,1486.45 1044.75,1470.09 \n",
       "  \"/>\n",
       "<polyline clip-path=\"url(#clip350)\" style=\"stroke:#000000; stroke-width:4; stroke-opacity:1; fill:none\" points=\"\n",
       "  1460.38,1486.45 1460.38,1470.09 \n",
       "  \"/>\n",
       "<polyline clip-path=\"url(#clip350)\" style=\"stroke:#000000; stroke-width:4; stroke-opacity:1; fill:none\" points=\"\n",
       "  1876.02,1486.45 1876.02,1470.09 \n",
       "  \"/>\n",
       "<polyline clip-path=\"url(#clip350)\" style=\"stroke:#000000; stroke-width:4; stroke-opacity:1; fill:none\" points=\"\n",
       "  2291.66,1486.45 2291.66,1470.09 \n",
       "  \"/>\n",
       "<path clip-path=\"url(#clip350)\" d=\"M 0 0 M213.471 1515.64 Q209.86 1515.64 208.031 1519.2 Q206.226 1522.75 206.226 1529.87 Q206.226 1536.98 208.031 1540.55 Q209.86 1544.09 213.471 1544.09 Q217.105 1544.09 218.911 1540.55 Q220.739 1536.98 220.739 1529.87 Q220.739 1522.75 218.911 1519.2 Q217.105 1515.64 213.471 1515.64 M213.471 1511.93 Q219.281 1511.93 222.337 1516.54 Q225.415 1521.12 225.415 1529.87 Q225.415 1538.6 222.337 1543.21 Q219.281 1547.79 213.471 1547.79 Q207.661 1547.79 204.582 1543.21 Q201.527 1538.6 201.527 1529.87 Q201.527 1521.12 204.582 1516.54 Q207.661 1511.93 213.471 1511.93 Z\" fill=\"#000000\" fill-rule=\"evenodd\" fill-opacity=\"1\" /><path clip-path=\"url(#clip350)\" d=\"M 0 0 M603.796 1543.18 L611.435 1543.18 L611.435 1516.82 L603.125 1518.49 L603.125 1514.23 L611.388 1512.56 L616.064 1512.56 L616.064 1543.18 L623.703 1543.18 L623.703 1547.12 L603.796 1547.12 L603.796 1543.18 Z\" fill=\"#000000\" fill-rule=\"evenodd\" fill-opacity=\"1\" /><path clip-path=\"url(#clip350)\" d=\"M 0 0 M643.147 1515.64 Q639.536 1515.64 637.708 1519.2 Q635.902 1522.75 635.902 1529.87 Q635.902 1536.98 637.708 1540.55 Q639.536 1544.09 643.147 1544.09 Q646.782 1544.09 648.587 1540.55 Q650.416 1536.98 650.416 1529.87 Q650.416 1522.75 648.587 1519.2 Q646.782 1515.64 643.147 1515.64 M643.147 1511.93 Q648.958 1511.93 652.013 1516.54 Q655.092 1521.12 655.092 1529.87 Q655.092 1538.6 652.013 1543.21 Q648.958 1547.79 643.147 1547.79 Q637.337 1547.79 634.259 1543.21 Q631.203 1538.6 631.203 1529.87 Q631.203 1521.12 634.259 1516.54 Q637.337 1511.93 643.147 1511.93 Z\" fill=\"#000000\" fill-rule=\"evenodd\" fill-opacity=\"1\" /><path clip-path=\"url(#clip350)\" d=\"M 0 0 M1023.52 1543.18 L1039.84 1543.18 L1039.84 1547.12 L1017.89 1547.12 L1017.89 1543.18 Q1020.56 1540.43 1025.14 1535.8 Q1029.75 1531.15 1030.93 1529.81 Q1033.17 1527.28 1034.05 1525.55 Q1034.95 1523.79 1034.95 1522.1 Q1034.95 1519.34 1033.01 1517.61 Q1031.09 1515.87 1027.99 1515.87 Q1025.79 1515.87 1023.33 1516.63 Q1020.9 1517.4 1018.13 1518.95 L1018.13 1514.23 Q1020.95 1513.09 1023.4 1512.51 Q1025.86 1511.93 1027.89 1511.93 Q1033.26 1511.93 1036.46 1514.62 Q1039.65 1517.31 1039.65 1521.8 Q1039.65 1523.93 1038.84 1525.85 Q1038.06 1527.74 1035.95 1530.34 Q1035.37 1531.01 1032.27 1534.23 Q1029.17 1537.42 1023.52 1543.18 Z\" fill=\"#000000\" fill-rule=\"evenodd\" fill-opacity=\"1\" /><path clip-path=\"url(#clip350)\" d=\"M 0 0 M1059.65 1515.64 Q1056.04 1515.64 1054.21 1519.2 Q1052.41 1522.75 1052.41 1529.87 Q1052.41 1536.98 1054.21 1540.55 Q1056.04 1544.09 1059.65 1544.09 Q1063.29 1544.09 1065.09 1540.55 Q1066.92 1536.98 1066.92 1529.87 Q1066.92 1522.75 1065.09 1519.2 Q1063.29 1515.64 1059.65 1515.64 M1059.65 1511.93 Q1065.46 1511.93 1068.52 1516.54 Q1071.6 1521.12 1071.6 1529.87 Q1071.6 1538.6 1068.52 1543.21 Q1065.46 1547.79 1059.65 1547.79 Q1053.84 1547.79 1050.76 1543.21 Q1047.71 1538.6 1047.71 1529.87 Q1047.71 1521.12 1050.76 1516.54 Q1053.84 1511.93 1059.65 1511.93 Z\" fill=\"#000000\" fill-rule=\"evenodd\" fill-opacity=\"1\" /><path clip-path=\"url(#clip350)\" d=\"M 0 0 M1449.23 1528.49 Q1452.58 1529.2 1454.46 1531.47 Q1456.35 1533.74 1456.35 1537.07 Q1456.35 1542.19 1452.84 1544.99 Q1449.32 1547.79 1442.84 1547.79 Q1440.66 1547.79 1438.35 1547.35 Q1436.05 1546.93 1433.6 1546.08 L1433.6 1541.56 Q1435.54 1542.7 1437.86 1543.28 Q1440.17 1543.86 1442.7 1543.86 Q1447.1 1543.86 1449.39 1542.12 Q1451.7 1540.38 1451.7 1537.07 Q1451.7 1534.02 1449.55 1532.31 Q1447.42 1530.57 1443.6 1530.57 L1439.57 1530.57 L1439.57 1526.73 L1443.79 1526.73 Q1447.23 1526.73 1449.06 1525.36 Q1450.89 1523.97 1450.89 1521.38 Q1450.89 1518.72 1448.99 1517.31 Q1447.12 1515.87 1443.6 1515.87 Q1441.68 1515.87 1439.48 1516.29 Q1437.28 1516.7 1434.64 1517.58 L1434.64 1513.42 Q1437.3 1512.68 1439.62 1512.31 Q1441.96 1511.93 1444.02 1511.93 Q1449.34 1511.93 1452.44 1514.37 Q1455.54 1516.77 1455.54 1520.89 Q1455.54 1523.76 1453.9 1525.75 Q1452.26 1527.72 1449.23 1528.49 Z\" fill=\"#000000\" fill-rule=\"evenodd\" fill-opacity=\"1\" /><path clip-path=\"url(#clip350)\" d=\"M 0 0 M1475.22 1515.64 Q1471.61 1515.64 1469.78 1519.2 Q1467.98 1522.75 1467.98 1529.87 Q1467.98 1536.98 1469.78 1540.55 Q1471.61 1544.09 1475.22 1544.09 Q1478.85 1544.09 1480.66 1540.55 Q1482.49 1536.98 1482.49 1529.87 Q1482.49 1522.75 1480.66 1519.2 Q1478.85 1515.64 1475.22 1515.64 M1475.22 1511.93 Q1481.03 1511.93 1484.09 1516.54 Q1487.16 1521.12 1487.16 1529.87 Q1487.16 1538.6 1484.09 1543.21 Q1481.03 1547.79 1475.22 1547.79 Q1469.41 1547.79 1466.33 1543.21 Q1463.28 1538.6 1463.28 1529.87 Q1463.28 1521.12 1466.33 1516.54 Q1469.41 1511.93 1475.22 1511.93 Z\" fill=\"#000000\" fill-rule=\"evenodd\" fill-opacity=\"1\" /><path clip-path=\"url(#clip350)\" d=\"M 0 0 M1864.19 1516.63 L1852.39 1535.08 L1864.19 1535.08 L1864.19 1516.63 M1862.96 1512.56 L1868.84 1512.56 L1868.84 1535.08 L1873.77 1535.08 L1873.77 1538.97 L1868.84 1538.97 L1868.84 1547.12 L1864.19 1547.12 L1864.19 1538.97 L1848.59 1538.97 L1848.59 1534.46 L1862.96 1512.56 Z\" fill=\"#000000\" fill-rule=\"evenodd\" fill-opacity=\"1\" /><path clip-path=\"url(#clip350)\" d=\"M 0 0 M1891.51 1515.64 Q1887.89 1515.64 1886.07 1519.2 Q1884.26 1522.75 1884.26 1529.87 Q1884.26 1536.98 1886.07 1540.55 Q1887.89 1544.09 1891.51 1544.09 Q1895.14 1544.09 1896.95 1540.55 Q1898.77 1536.98 1898.77 1529.87 Q1898.77 1522.75 1896.95 1519.2 Q1895.14 1515.64 1891.51 1515.64 M1891.51 1511.93 Q1897.32 1511.93 1900.37 1516.54 Q1903.45 1521.12 1903.45 1529.87 Q1903.45 1538.6 1900.37 1543.21 Q1897.32 1547.79 1891.51 1547.79 Q1885.7 1547.79 1882.62 1543.21 Q1879.56 1538.6 1879.56 1529.87 Q1879.56 1521.12 1882.62 1516.54 Q1885.7 1511.93 1891.51 1511.93 Z\" fill=\"#000000\" fill-rule=\"evenodd\" fill-opacity=\"1\" /><path clip-path=\"url(#clip350)\" d=\"M 0 0 M2266.36 1512.56 L2284.71 1512.56 L2284.71 1516.5 L2270.64 1516.5 L2270.64 1524.97 Q2271.66 1524.62 2272.68 1524.46 Q2273.69 1524.27 2274.71 1524.27 Q2280.5 1524.27 2283.88 1527.44 Q2287.26 1530.62 2287.26 1536.03 Q2287.26 1541.61 2283.79 1544.71 Q2280.31 1547.79 2274 1547.79 Q2271.82 1547.79 2269.55 1547.42 Q2267.31 1547.05 2264.9 1546.31 L2264.9 1541.61 Q2266.98 1542.74 2269.2 1543.3 Q2271.43 1543.86 2273.9 1543.86 Q2277.91 1543.86 2280.25 1541.75 Q2282.58 1539.64 2282.58 1536.03 Q2282.58 1532.42 2280.25 1530.31 Q2277.91 1528.21 2273.9 1528.21 Q2272.03 1528.21 2270.15 1528.62 Q2268.3 1529.04 2266.36 1529.92 L2266.36 1512.56 Z\" fill=\"#000000\" fill-rule=\"evenodd\" fill-opacity=\"1\" /><path clip-path=\"url(#clip350)\" d=\"M 0 0 M2306.47 1515.64 Q2302.86 1515.64 2301.03 1519.2 Q2299.23 1522.75 2299.23 1529.87 Q2299.23 1536.98 2301.03 1540.55 Q2302.86 1544.09 2306.47 1544.09 Q2310.11 1544.09 2311.91 1540.55 Q2313.74 1536.98 2313.74 1529.87 Q2313.74 1522.75 2311.91 1519.2 Q2310.11 1515.64 2306.47 1515.64 M2306.47 1511.93 Q2312.28 1511.93 2315.34 1516.54 Q2318.42 1521.12 2318.42 1529.87 Q2318.42 1538.6 2315.34 1543.21 Q2312.28 1547.79 2306.47 1547.79 Q2300.66 1547.79 2297.58 1543.21 Q2294.53 1538.6 2294.53 1529.87 Q2294.53 1521.12 2297.58 1516.54 Q2300.66 1511.93 2306.47 1511.93 Z\" fill=\"#000000\" fill-rule=\"evenodd\" fill-opacity=\"1\" /><polyline clip-path=\"url(#clip352)\" style=\"stroke:#000000; stroke-width:2; stroke-opacity:0.1; fill:none\" points=\"\n",
       "  193.936,1452.96 2352.76,1452.96 \n",
       "  \"/>\n",
       "<polyline clip-path=\"url(#clip352)\" style=\"stroke:#000000; stroke-width:2; stroke-opacity:0.1; fill:none\" points=\"\n",
       "  193.936,1130.23 2352.76,1130.23 \n",
       "  \"/>\n",
       "<polyline clip-path=\"url(#clip352)\" style=\"stroke:#000000; stroke-width:2; stroke-opacity:0.1; fill:none\" points=\"\n",
       "  193.936,807.505 2352.76,807.505 \n",
       "  \"/>\n",
       "<polyline clip-path=\"url(#clip352)\" style=\"stroke:#000000; stroke-width:2; stroke-opacity:0.1; fill:none\" points=\"\n",
       "  193.936,484.776 2352.76,484.776 \n",
       "  \"/>\n",
       "<polyline clip-path=\"url(#clip352)\" style=\"stroke:#000000; stroke-width:2; stroke-opacity:0.1; fill:none\" points=\"\n",
       "  193.936,162.047 2352.76,162.047 \n",
       "  \"/>\n",
       "<polyline clip-path=\"url(#clip350)\" style=\"stroke:#000000; stroke-width:4; stroke-opacity:1; fill:none\" points=\"\n",
       "  193.936,1486.45 193.936,123.472 \n",
       "  \"/>\n",
       "<polyline clip-path=\"url(#clip350)\" style=\"stroke:#000000; stroke-width:4; stroke-opacity:1; fill:none\" points=\"\n",
       "  193.936,1452.96 219.842,1452.96 \n",
       "  \"/>\n",
       "<polyline clip-path=\"url(#clip350)\" style=\"stroke:#000000; stroke-width:4; stroke-opacity:1; fill:none\" points=\"\n",
       "  193.936,1130.23 219.842,1130.23 \n",
       "  \"/>\n",
       "<polyline clip-path=\"url(#clip350)\" style=\"stroke:#000000; stroke-width:4; stroke-opacity:1; fill:none\" points=\"\n",
       "  193.936,807.505 219.842,807.505 \n",
       "  \"/>\n",
       "<polyline clip-path=\"url(#clip350)\" style=\"stroke:#000000; stroke-width:4; stroke-opacity:1; fill:none\" points=\"\n",
       "  193.936,484.776 219.842,484.776 \n",
       "  \"/>\n",
       "<polyline clip-path=\"url(#clip350)\" style=\"stroke:#000000; stroke-width:4; stroke-opacity:1; fill:none\" points=\"\n",
       "  193.936,162.047 219.842,162.047 \n",
       "  \"/>\n",
       "<path clip-path=\"url(#clip350)\" d=\"M 0 0 M50.9921 1453.41 L80.6679 1453.41 L80.6679 1457.35 L50.9921 1457.35 L50.9921 1453.41 Z\" fill=\"#000000\" fill-rule=\"evenodd\" fill-opacity=\"1\" /><path clip-path=\"url(#clip350)\" d=\"M 0 0 M91.5706 1466.31 L99.2095 1466.31 L99.2095 1439.94 L90.8993 1441.61 L90.8993 1437.35 L99.1632 1435.68 L103.839 1435.68 L103.839 1466.31 L111.478 1466.31 L111.478 1470.24 L91.5706 1470.24 L91.5706 1466.31 Z\" fill=\"#000000\" fill-rule=\"evenodd\" fill-opacity=\"1\" /><path clip-path=\"url(#clip350)\" d=\"M 0 0 M120.922 1464.36 L125.807 1464.36 L125.807 1470.24 L120.922 1470.24 L120.922 1464.36 Z\" fill=\"#000000\" fill-rule=\"evenodd\" fill-opacity=\"1\" /><path clip-path=\"url(#clip350)\" d=\"M 0 0 M145.992 1438.76 Q142.381 1438.76 140.552 1442.33 Q138.746 1445.87 138.746 1453 Q138.746 1460.1 140.552 1463.67 Q142.381 1467.21 145.992 1467.21 Q149.626 1467.21 151.431 1463.67 Q153.26 1460.1 153.26 1453 Q153.26 1445.87 151.431 1442.33 Q149.626 1438.76 145.992 1438.76 M145.992 1435.06 Q151.802 1435.06 154.857 1439.66 Q157.936 1444.25 157.936 1453 Q157.936 1461.72 154.857 1466.33 Q151.802 1470.91 145.992 1470.91 Q140.181 1470.91 137.103 1466.33 Q134.047 1461.72 134.047 1453 Q134.047 1444.25 137.103 1439.66 Q140.181 1435.06 145.992 1435.06 Z\" fill=\"#000000\" fill-rule=\"evenodd\" fill-opacity=\"1\" /><path clip-path=\"url(#clip350)\" d=\"M 0 0 M51.9875 1130.69 L81.6633 1130.69 L81.6633 1134.62 L51.9875 1134.62 L51.9875 1130.69 Z\" fill=\"#000000\" fill-rule=\"evenodd\" fill-opacity=\"1\" /><path clip-path=\"url(#clip350)\" d=\"M 0 0 M101.756 1116.03 Q98.1447 1116.03 96.316 1119.6 Q94.5104 1123.14 94.5104 1130.27 Q94.5104 1137.37 96.316 1140.94 Q98.1447 1144.48 101.756 1144.48 Q105.39 1144.48 107.196 1140.94 Q109.024 1137.37 109.024 1130.27 Q109.024 1123.14 107.196 1119.6 Q105.39 1116.03 101.756 1116.03 M101.756 1112.33 Q107.566 1112.33 110.621 1116.94 Q113.7 1121.52 113.7 1130.27 Q113.7 1139 110.621 1143.6 Q107.566 1148.19 101.756 1148.19 Q95.9456 1148.19 92.8669 1143.6 Q89.8114 1139 89.8114 1130.27 Q89.8114 1121.52 92.8669 1116.94 Q95.9456 1112.33 101.756 1112.33 Z\" fill=\"#000000\" fill-rule=\"evenodd\" fill-opacity=\"1\" /><path clip-path=\"url(#clip350)\" d=\"M 0 0 M121.918 1141.63 L126.802 1141.63 L126.802 1147.51 L121.918 1147.51 L121.918 1141.63 Z\" fill=\"#000000\" fill-rule=\"evenodd\" fill-opacity=\"1\" /><path clip-path=\"url(#clip350)\" d=\"M 0 0 M137.033 1112.95 L155.39 1112.95 L155.39 1116.89 L141.316 1116.89 L141.316 1125.36 Q142.334 1125.01 143.353 1124.85 Q144.371 1124.67 145.39 1124.67 Q151.177 1124.67 154.556 1127.84 Q157.936 1131.01 157.936 1136.43 Q157.936 1142 154.464 1145.11 Q150.992 1148.19 144.672 1148.19 Q142.496 1148.19 140.228 1147.81 Q137.982 1147.44 135.575 1146.7 L135.575 1142 Q137.658 1143.14 139.881 1143.69 Q142.103 1144.25 144.58 1144.25 Q148.584 1144.25 150.922 1142.14 Q153.26 1140.04 153.26 1136.43 Q153.26 1132.81 150.922 1130.71 Q148.584 1128.6 144.58 1128.6 Q142.705 1128.6 140.83 1129.02 Q138.978 1129.44 137.033 1130.31 L137.033 1112.95 Z\" fill=\"#000000\" fill-rule=\"evenodd\" fill-opacity=\"1\" /><path clip-path=\"url(#clip350)\" d=\"M 0 0 M100.76 793.304 Q97.1493 793.304 95.3206 796.868 Q93.515 800.41 93.515 807.54 Q93.515 814.646 95.3206 818.211 Q97.1493 821.752 100.76 821.752 Q104.395 821.752 106.2 818.211 Q108.029 814.646 108.029 807.54 Q108.029 800.41 106.2 796.868 Q104.395 793.304 100.76 793.304 M100.76 789.6 Q106.571 789.6 109.626 794.206 Q112.705 798.79 112.705 807.54 Q112.705 816.266 109.626 820.873 Q106.571 825.456 100.76 825.456 Q94.9502 825.456 91.8715 820.873 Q88.816 816.266 88.816 807.54 Q88.816 798.79 91.8715 794.206 Q94.9502 789.6 100.76 789.6 Z\" fill=\"#000000\" fill-rule=\"evenodd\" fill-opacity=\"1\" /><path clip-path=\"url(#clip350)\" d=\"M 0 0 M120.922 818.905 L125.807 818.905 L125.807 824.785 L120.922 824.785 L120.922 818.905 Z\" fill=\"#000000\" fill-rule=\"evenodd\" fill-opacity=\"1\" /><path clip-path=\"url(#clip350)\" d=\"M 0 0 M145.992 793.304 Q142.381 793.304 140.552 796.868 Q138.746 800.41 138.746 807.54 Q138.746 814.646 140.552 818.211 Q142.381 821.752 145.992 821.752 Q149.626 821.752 151.431 818.211 Q153.26 814.646 153.26 807.54 Q153.26 800.41 151.431 796.868 Q149.626 793.304 145.992 793.304 M145.992 789.6 Q151.802 789.6 154.857 794.206 Q157.936 798.79 157.936 807.54 Q157.936 816.266 154.857 820.873 Q151.802 825.456 145.992 825.456 Q140.181 825.456 137.103 820.873 Q134.047 816.266 134.047 807.54 Q134.047 798.79 137.103 794.206 Q140.181 789.6 145.992 789.6 Z\" fill=\"#000000\" fill-rule=\"evenodd\" fill-opacity=\"1\" /><path clip-path=\"url(#clip350)\" d=\"M 0 0 M101.756 470.575 Q98.1447 470.575 96.316 474.139 Q94.5104 477.681 94.5104 484.811 Q94.5104 491.917 96.316 495.482 Q98.1447 499.023 101.756 499.023 Q105.39 499.023 107.196 495.482 Q109.024 491.917 109.024 484.811 Q109.024 477.681 107.196 474.139 Q105.39 470.575 101.756 470.575 M101.756 466.871 Q107.566 466.871 110.621 471.477 Q113.7 476.061 113.7 484.811 Q113.7 493.537 110.621 498.144 Q107.566 502.727 101.756 502.727 Q95.9456 502.727 92.8669 498.144 Q89.8114 493.537 89.8114 484.811 Q89.8114 476.061 92.8669 471.477 Q95.9456 466.871 101.756 466.871 Z\" fill=\"#000000\" fill-rule=\"evenodd\" fill-opacity=\"1\" /><path clip-path=\"url(#clip350)\" d=\"M 0 0 M121.918 496.176 L126.802 496.176 L126.802 502.056 L121.918 502.056 L121.918 496.176 Z\" fill=\"#000000\" fill-rule=\"evenodd\" fill-opacity=\"1\" /><path clip-path=\"url(#clip350)\" d=\"M 0 0 M137.033 467.496 L155.39 467.496 L155.39 471.431 L141.316 471.431 L141.316 479.903 Q142.334 479.556 143.353 479.394 Q144.371 479.209 145.39 479.209 Q151.177 479.209 154.556 482.38 Q157.936 485.551 157.936 490.968 Q157.936 496.547 154.464 499.648 Q150.992 502.727 144.672 502.727 Q142.496 502.727 140.228 502.357 Q137.982 501.986 135.575 501.246 L135.575 496.547 Q137.658 497.681 139.881 498.236 Q142.103 498.792 144.58 498.792 Q148.584 498.792 150.922 496.686 Q153.26 494.579 153.26 490.968 Q153.26 487.357 150.922 485.25 Q148.584 483.144 144.58 483.144 Q142.705 483.144 140.83 483.561 Q138.978 483.977 137.033 484.857 L137.033 467.496 Z\" fill=\"#000000\" fill-rule=\"evenodd\" fill-opacity=\"1\" /><path clip-path=\"url(#clip350)\" d=\"M 0 0 M91.5706 175.392 L99.2095 175.392 L99.2095 149.026 L90.8993 150.693 L90.8993 146.434 L99.1632 144.767 L103.839 144.767 L103.839 175.392 L111.478 175.392 L111.478 179.327 L91.5706 179.327 L91.5706 175.392 Z\" fill=\"#000000\" fill-rule=\"evenodd\" fill-opacity=\"1\" /><path clip-path=\"url(#clip350)\" d=\"M 0 0 M120.922 173.447 L125.807 173.447 L125.807 179.327 L120.922 179.327 L120.922 173.447 Z\" fill=\"#000000\" fill-rule=\"evenodd\" fill-opacity=\"1\" /><path clip-path=\"url(#clip350)\" d=\"M 0 0 M145.992 147.846 Q142.381 147.846 140.552 151.41 Q138.746 154.952 138.746 162.082 Q138.746 169.188 140.552 172.753 Q142.381 176.295 145.992 176.295 Q149.626 176.295 151.431 172.753 Q153.26 169.188 153.26 162.082 Q153.26 154.952 151.431 151.41 Q149.626 147.846 145.992 147.846 M145.992 144.142 Q151.802 144.142 154.857 148.748 Q157.936 153.332 157.936 162.082 Q157.936 170.808 154.857 175.415 Q151.802 179.998 145.992 179.998 Q140.181 179.998 137.103 175.415 Q134.047 170.808 134.047 162.082 Q134.047 153.332 137.103 148.748 Q140.181 144.142 145.992 144.142 Z\" fill=\"#000000\" fill-rule=\"evenodd\" fill-opacity=\"1\" /><path clip-path=\"url(#clip350)\" d=\"M 0 0 M638.61 31.7429 L596.804 46.6097 L638.61 61.3955 L638.61 68.7682 L586.677 49.9314 L586.677 43.2069 L638.61 24.3702 L638.61 31.7429 Z\" fill=\"#000000\" fill-rule=\"evenodd\" fill-opacity=\"1\" /><path clip-path=\"url(#clip350)\" d=\"M 0 0 M672.799 33.1202 Q666.642 33.1202 663.32 37.5762 Q659.837 42.2347 659.837 49.9314 Q659.837 58.0738 663.28 62.7728 Q666.764 67.4314 672.799 67.4314 Q678.754 67.4314 682.238 62.7323 Q685.722 58.0333 685.722 49.9314 Q685.722 42.5183 682.238 37.5762 Q679.038 33.1202 672.799 33.1202 M672.799 27.2059 L697.55 27.2059 L697.55 34.6595 L689.206 34.6595 Q693.621 40.9789 693.621 49.9314 Q693.621 61.0714 688.071 67.3908 Q682.522 73.7508 672.799 73.7508 Q663.037 73.7508 657.527 67.3908 Q651.978 61.0714 651.978 49.9314 Q651.978 38.7104 657.527 32.4315 Q662.105 27.2059 672.799 27.2059 Z\" fill=\"#000000\" fill-rule=\"evenodd\" fill-opacity=\"1\" /><path clip-path=\"url(#clip350)\" d=\"M 0 0 M742.272 86.3491 L742.272 92.1419 L699.171 92.1419 L699.171 86.3491 L742.272 86.3491 Z\" fill=\"#000000\" fill-rule=\"evenodd\" fill-opacity=\"1\" /><path clip-path=\"url(#clip350)\" d=\"M 0 0 M746.04 27.2059 L781.445 27.2059 L781.445 34.0114 L753.412 66.6212 L781.445 66.6212 L781.445 72.576 L745.027 72.576 L745.027 65.7705 L773.059 33.1607 L746.04 33.1607 L746.04 27.2059 Z\" fill=\"#000000\" fill-rule=\"evenodd\" fill-opacity=\"1\" /><path clip-path=\"url(#clip350)\" d=\"M 0 0 M793.8 31.7429 L793.8 24.3702 L845.733 43.2069 L845.733 49.9314 L793.8 68.7682 L793.8 61.3955 L835.524 46.6097 L793.8 31.7429 Z\" fill=\"#000000\" fill-rule=\"evenodd\" fill-opacity=\"1\" /><path clip-path=\"url(#clip350)\" d=\"M 0 0 M911.681 9.54393 L911.681 15.7418 L904.552 15.7418 Q900.541 15.7418 898.961 17.3622 Q897.422 18.9825 897.422 23.1955 L897.422 27.2059 L909.696 27.2059 L909.696 32.9987 L897.422 32.9987 L897.422 72.576 L889.928 72.576 L889.928 32.9987 L882.798 32.9987 L882.798 27.2059 L889.928 27.2059 L889.928 24.0462 Q889.928 16.471 893.452 13.0277 Q896.976 9.54393 904.633 9.54393 L911.681 9.54393 Z\" fill=\"#000000\" fill-rule=\"evenodd\" fill-opacity=\"1\" /><path clip-path=\"url(#clip350)\" d=\"M 0 0 M935.501 32.4315 Q929.505 32.4315 926.021 37.1306 Q922.538 41.7891 922.538 49.9314 Q922.538 58.0738 925.981 62.7728 Q929.465 67.4314 935.501 67.4314 Q941.455 67.4314 944.939 62.7323 Q948.423 58.0333 948.423 49.9314 Q948.423 41.8701 944.939 37.1711 Q941.455 32.4315 935.501 32.4315 M935.501 26.1121 Q945.223 26.1121 950.772 32.4315 Q956.322 38.7509 956.322 49.9314 Q956.322 61.0714 950.772 67.4314 Q945.223 73.7508 935.501 73.7508 Q925.738 73.7508 920.188 67.4314 Q914.679 61.0714 914.679 49.9314 Q914.679 38.7509 920.188 32.4315 Q925.738 26.1121 935.501 26.1121 Z\" fill=\"#000000\" fill-rule=\"evenodd\" fill-opacity=\"1\" /><path clip-path=\"url(#clip350)\" d=\"M 0 0 M994.968 34.1734 Q993.712 33.4443 992.213 33.1202 Q990.755 32.7556 988.972 32.7556 Q982.653 32.7556 979.25 36.8875 Q975.888 40.9789 975.888 48.6757 L975.888 72.576 L968.394 72.576 L968.394 27.2059 L975.888 27.2059 L975.888 34.2544 Q978.238 30.1225 982.005 28.1376 Q985.772 26.1121 991.16 26.1121 Q991.93 26.1121 992.861 26.2337 Q993.793 26.3147 994.927 26.5172 L994.968 34.1734 Z\" fill=\"#000000\" fill-rule=\"evenodd\" fill-opacity=\"1\" /><path clip-path=\"url(#clip350)\" d=\"M 0 0 M1029.16 9.54393 L1036.61 9.54393 L1036.61 72.576 L1029.16 72.576 L1029.16 9.54393 Z\" fill=\"#000000\" fill-rule=\"evenodd\" fill-opacity=\"1\" /><path clip-path=\"url(#clip350)\" d=\"M 0 0 M1091.01 48.0275 L1091.01 51.6733 L1056.74 51.6733 Q1057.23 59.3701 1061.36 63.421 Q1065.53 67.4314 1072.95 67.4314 Q1077.24 67.4314 1081.25 66.3781 Q1085.3 65.3249 1089.27 63.2184 L1089.27 70.267 Q1085.26 71.9684 1081.05 72.8596 Q1076.84 73.7508 1072.5 73.7508 Q1061.65 73.7508 1055.29 67.4314 Q1048.97 61.1119 1048.97 50.3365 Q1048.97 39.1965 1054.96 32.6746 Q1061 26.1121 1071.21 26.1121 Q1080.36 26.1121 1085.67 32.0264 Q1091.01 37.9003 1091.01 48.0275 M1083.56 45.84 Q1083.48 39.7232 1080.12 36.0774 Q1076.8 32.4315 1071.29 32.4315 Q1065.05 32.4315 1061.28 35.9558 Q1057.55 39.4801 1056.99 45.8805 L1083.56 45.84 Z\" fill=\"#000000\" fill-rule=\"evenodd\" fill-opacity=\"1\" /><path clip-path=\"url(#clip350)\" d=\"M 0 0 M1126.22 9.54393 L1126.22 15.7418 L1119.09 15.7418 Q1115.08 15.7418 1113.5 17.3622 Q1111.96 18.9825 1111.96 23.1955 L1111.96 27.2059 L1124.23 27.2059 L1124.23 32.9987 L1111.96 32.9987 L1111.96 72.576 L1104.46 72.576 L1104.46 32.9987 L1097.33 32.9987 L1097.33 27.2059 L1104.46 27.2059 L1104.46 24.0462 Q1104.46 16.471 1107.99 13.0277 Q1111.51 9.54393 1119.17 9.54393 L1126.22 9.54393 Z\" fill=\"#000000\" fill-rule=\"evenodd\" fill-opacity=\"1\" /><path clip-path=\"url(#clip350)\" d=\"M 0 0 M1138.37 14.324 L1138.37 27.2059 L1153.72 27.2059 L1153.72 32.9987 L1138.37 32.9987 L1138.37 57.6282 Q1138.37 63.1779 1139.87 64.7578 Q1141.41 66.3376 1146.07 66.3376 L1153.72 66.3376 L1153.72 72.576 L1146.07 72.576 Q1137.44 72.576 1134.16 69.3758 Q1130.88 66.1351 1130.88 57.6282 L1130.88 32.9987 L1125.41 32.9987 L1125.41 27.2059 L1130.88 27.2059 L1130.88 14.324 L1138.37 14.324 Z\" fill=\"#000000\" fill-rule=\"evenodd\" fill-opacity=\"1\" /><path clip-path=\"url(#clip350)\" d=\"M 0 0 M1198.85 35.9153 Q1201.64 30.8922 1205.53 28.5022 Q1209.42 26.1121 1214.69 26.1121 Q1221.78 26.1121 1225.63 31.0947 Q1229.47 36.0368 1229.47 45.1919 L1229.47 72.576 L1221.98 72.576 L1221.98 45.4349 Q1221.98 38.913 1219.67 35.7533 Q1217.36 32.5936 1212.62 32.5936 Q1206.83 32.5936 1203.47 36.4419 Q1200.11 40.2903 1200.11 46.9338 L1200.11 72.576 L1192.61 72.576 L1192.61 45.4349 Q1192.61 38.8725 1190.3 35.7533 Q1187.99 32.5936 1183.17 32.5936 Q1177.46 32.5936 1174.1 36.4824 Q1170.74 40.3308 1170.74 46.9338 L1170.74 72.576 L1163.24 72.576 L1163.24 27.2059 L1170.74 27.2059 L1170.74 34.2544 Q1173.29 30.082 1176.85 28.0971 Q1180.42 26.1121 1185.32 26.1121 Q1190.26 26.1121 1193.71 28.6237 Q1197.19 31.1352 1198.85 35.9153 Z\" fill=\"#000000\" fill-rule=\"evenodd\" fill-opacity=\"1\" /><path clip-path=\"url(#clip350)\" d=\"M 0 0 M1261.92 32.4315 Q1255.93 32.4315 1252.44 37.1306 Q1248.96 41.7891 1248.96 49.9314 Q1248.96 58.0738 1252.4 62.7728 Q1255.89 67.4314 1261.92 67.4314 Q1267.88 67.4314 1271.36 62.7323 Q1274.84 58.0333 1274.84 49.9314 Q1274.84 41.8701 1271.36 37.1711 Q1267.88 32.4315 1261.92 32.4315 M1261.92 26.1121 Q1271.64 26.1121 1277.19 32.4315 Q1282.74 38.7509 1282.74 49.9314 Q1282.74 61.0714 1277.19 67.4314 Q1271.64 73.7508 1261.92 73.7508 Q1252.16 73.7508 1246.61 67.4314 Q1241.1 61.0714 1241.1 49.9314 Q1241.1 38.7509 1246.61 32.4315 Q1252.16 26.1121 1261.92 26.1121 Z\" fill=\"#000000\" fill-rule=\"evenodd\" fill-opacity=\"1\" /><path clip-path=\"url(#clip350)\" d=\"M 0 0 M1324.02 28.5427 L1324.02 35.5912 Q1320.86 33.9709 1317.46 33.1607 Q1314.06 32.3505 1310.41 32.3505 Q1304.86 32.3505 1302.07 34.0519 Q1299.31 35.7533 1299.31 39.156 Q1299.31 41.7486 1301.3 43.2475 Q1303.28 44.7058 1309.28 46.0426 L1311.83 46.6097 Q1319.77 48.3111 1323.09 51.4303 Q1326.45 54.509 1326.45 60.0587 Q1326.45 66.3781 1321.43 70.0644 Q1316.45 73.7508 1307.7 73.7508 Q1304.05 73.7508 1300.08 73.0216 Q1296.15 72.3329 1291.78 70.9151 L1291.78 63.2184 Q1295.91 65.3654 1299.92 66.4591 Q1303.93 67.5124 1307.86 67.5124 Q1313.13 67.5124 1315.96 65.73 Q1318.8 63.9071 1318.8 60.6258 Q1318.8 57.5877 1316.73 55.9673 Q1314.71 54.3469 1307.78 52.8481 L1305.19 52.2405 Q1298.26 50.7821 1295.18 47.7845 Q1292.1 44.7463 1292.1 39.4801 Q1292.1 33.0797 1296.64 29.5959 Q1301.18 26.1121 1309.52 26.1121 Q1313.65 26.1121 1317.3 26.7198 Q1320.94 27.3274 1324.02 28.5427 Z\" fill=\"#000000\" fill-rule=\"evenodd\" fill-opacity=\"1\" /><path clip-path=\"url(#clip350)\" d=\"M 0 0 M1345.7 14.324 L1345.7 27.2059 L1361.05 27.2059 L1361.05 32.9987 L1345.7 32.9987 L1345.7 57.6282 Q1345.7 63.1779 1347.19 64.7578 Q1348.73 66.3376 1353.39 66.3376 L1361.05 66.3376 L1361.05 72.576 L1353.39 72.576 Q1344.76 72.576 1341.48 69.3758 Q1338.2 66.1351 1338.2 57.6282 L1338.2 32.9987 L1332.73 32.9987 L1332.73 27.2059 L1338.2 27.2059 L1338.2 14.324 L1345.7 14.324 Z\" fill=\"#000000\" fill-rule=\"evenodd\" fill-opacity=\"1\" /><path clip-path=\"url(#clip350)\" d=\"M 0 0 M1426.15 28.5427 L1426.15 35.5912 Q1422.99 33.9709 1419.58 33.1607 Q1416.18 32.3505 1412.54 32.3505 Q1406.99 32.3505 1404.19 34.0519 Q1401.44 35.7533 1401.44 39.156 Q1401.44 41.7486 1403.42 43.2475 Q1405.41 44.7058 1411.4 46.0426 L1413.95 46.6097 Q1421.89 48.3111 1425.21 51.4303 Q1428.58 54.509 1428.58 60.0587 Q1428.58 66.3781 1423.55 70.0644 Q1418.57 73.7508 1409.82 73.7508 Q1406.18 73.7508 1402.21 73.0216 Q1398.28 72.3329 1393.9 70.9151 L1393.9 63.2184 Q1398.03 65.3654 1402.04 66.4591 Q1406.05 67.5124 1409.98 67.5124 Q1415.25 67.5124 1418.08 65.73 Q1420.92 63.9071 1420.92 60.6258 Q1420.92 57.5877 1418.85 55.9673 Q1416.83 54.3469 1409.9 52.8481 L1407.31 52.2405 Q1400.38 50.7821 1397.3 47.7845 Q1394.22 44.7463 1394.22 39.4801 Q1394.22 33.0797 1398.76 29.5959 Q1403.3 26.1121 1411.64 26.1121 Q1415.78 26.1121 1419.42 26.7198 Q1423.07 27.3274 1426.15 28.5427 Z\" fill=\"#000000\" fill-rule=\"evenodd\" fill-opacity=\"1\" /><path clip-path=\"url(#clip350)\" d=\"M 0 0 M1440.45 27.2059 L1447.9 27.2059 L1447.9 72.576 L1440.45 72.576 L1440.45 27.2059 M1440.45 9.54393 L1447.9 9.54393 L1447.9 18.9825 L1440.45 18.9825 L1440.45 9.54393 Z\" fill=\"#000000\" fill-rule=\"evenodd\" fill-opacity=\"1\" /><path clip-path=\"url(#clip350)\" d=\"M 0 0 M1470.87 14.324 L1470.87 27.2059 L1486.22 27.2059 L1486.22 32.9987 L1470.87 32.9987 L1470.87 57.6282 Q1470.87 63.1779 1472.37 64.7578 Q1473.91 66.3376 1478.56 66.3376 L1486.22 66.3376 L1486.22 72.576 L1478.56 72.576 Q1469.94 72.576 1466.66 69.3758 Q1463.37 66.1351 1463.37 57.6282 L1463.37 32.9987 L1457.91 32.9987 L1457.91 27.2059 L1463.37 27.2059 L1463.37 14.324 L1470.87 14.324 Z\" fill=\"#000000\" fill-rule=\"evenodd\" fill-opacity=\"1\" /><path clip-path=\"url(#clip350)\" d=\"M 0 0 M1534.83 48.0275 L1534.83 51.6733 L1500.56 51.6733 Q1501.05 59.3701 1505.18 63.421 Q1509.35 67.4314 1516.76 67.4314 Q1521.06 67.4314 1525.07 66.3781 Q1529.12 65.3249 1533.09 63.2184 L1533.09 70.267 Q1529.08 71.9684 1524.87 72.8596 Q1520.65 73.7508 1516.32 73.7508 Q1505.46 73.7508 1499.1 67.4314 Q1492.78 61.1119 1492.78 50.3365 Q1492.78 39.1965 1498.78 32.6746 Q1504.81 26.1121 1515.02 26.1121 Q1524.18 26.1121 1529.48 32.0264 Q1534.83 37.9003 1534.83 48.0275 M1527.38 45.84 Q1527.3 39.7232 1523.93 36.0774 Q1520.61 32.4315 1515.1 32.4315 Q1508.87 32.4315 1505.1 35.9558 Q1501.37 39.4801 1500.8 45.8805 L1527.38 45.84 Z\" fill=\"#000000\" fill-rule=\"evenodd\" fill-opacity=\"1\" /><path clip-path=\"url(#clip350)\" d=\"M 0 0 M1591.02 32.4315 Q1585.02 32.4315 1581.54 37.1306 Q1578.05 41.7891 1578.05 49.9314 Q1578.05 58.0738 1581.5 62.7728 Q1584.98 67.4314 1591.02 67.4314 Q1596.97 67.4314 1600.46 62.7323 Q1603.94 58.0333 1603.94 49.9314 Q1603.94 41.8701 1600.46 37.1711 Q1596.97 32.4315 1591.02 32.4315 M1591.02 26.1121 Q1600.74 26.1121 1606.29 32.4315 Q1611.84 38.7509 1611.84 49.9314 Q1611.84 61.0714 1606.29 67.4314 Q1600.74 73.7508 1591.02 73.7508 Q1581.26 73.7508 1575.71 67.4314 Q1570.2 61.0714 1570.2 49.9314 Q1570.2 38.7509 1575.71 32.4315 Q1581.26 26.1121 1591.02 26.1121 Z\" fill=\"#000000\" fill-rule=\"evenodd\" fill-opacity=\"1\" /><path clip-path=\"url(#clip350)\" d=\"M 0 0 M1618.85 27.2059 L1626.75 27.2059 L1640.93 65.2844 L1655.1 27.2059 L1663 27.2059 L1645.99 72.576 L1635.86 72.576 L1618.85 27.2059 Z\" fill=\"#000000\" fill-rule=\"evenodd\" fill-opacity=\"1\" /><path clip-path=\"url(#clip350)\" d=\"M 0 0 M1712.1 48.0275 L1712.1 51.6733 L1677.83 51.6733 Q1678.31 59.3701 1682.45 63.421 Q1686.62 67.4314 1694.03 67.4314 Q1698.33 67.4314 1702.34 66.3781 Q1706.39 65.3249 1710.36 63.2184 L1710.36 70.267 Q1706.35 71.9684 1702.13 72.8596 Q1697.92 73.7508 1693.59 73.7508 Q1682.73 73.7508 1676.37 67.4314 Q1670.05 61.1119 1670.05 50.3365 Q1670.05 39.1965 1676.05 32.6746 Q1682.08 26.1121 1692.29 26.1121 Q1701.45 26.1121 1706.75 32.0264 Q1712.1 37.9003 1712.1 48.0275 M1704.65 45.84 Q1704.56 39.7232 1701.2 36.0774 Q1697.88 32.4315 1692.37 32.4315 Q1686.13 32.4315 1682.37 35.9558 Q1678.64 39.4801 1678.07 45.8805 L1704.65 45.84 Z\" fill=\"#000000\" fill-rule=\"evenodd\" fill-opacity=\"1\" /><path clip-path=\"url(#clip350)\" d=\"M 0 0 M1750.62 34.1734 Q1749.37 33.4443 1747.87 33.1202 Q1746.41 32.7556 1744.63 32.7556 Q1738.31 32.7556 1734.91 36.8875 Q1731.54 40.9789 1731.54 48.6757 L1731.54 72.576 L1724.05 72.576 L1724.05 27.2059 L1731.54 27.2059 L1731.54 34.2544 Q1733.89 30.1225 1737.66 28.1376 Q1741.43 26.1121 1746.82 26.1121 Q1747.59 26.1121 1748.52 26.2337 Q1749.45 26.3147 1750.58 26.5172 L1750.62 34.1734 Z\" fill=\"#000000\" fill-rule=\"evenodd\" fill-opacity=\"1\" /><path clip-path=\"url(#clip350)\" d=\"M 0 0 M1792.19 14.324 L1792.19 27.2059 L1807.54 27.2059 L1807.54 32.9987 L1792.19 32.9987 L1792.19 57.6282 Q1792.19 63.1779 1793.68 64.7578 Q1795.22 66.3376 1799.88 66.3376 L1807.54 66.3376 L1807.54 72.576 L1799.88 72.576 Q1791.25 72.576 1787.97 69.3758 Q1784.69 66.1351 1784.69 57.6282 L1784.69 32.9987 L1779.22 32.9987 L1779.22 27.2059 L1784.69 27.2059 L1784.69 14.324 L1792.19 14.324 Z\" fill=\"#000000\" fill-rule=\"evenodd\" fill-opacity=\"1\" /><path clip-path=\"url(#clip350)\" d=\"M 0 0 M1817.34 27.2059 L1824.8 27.2059 L1824.8 72.576 L1817.34 72.576 L1817.34 27.2059 M1817.34 9.54393 L1824.8 9.54393 L1824.8 18.9825 L1817.34 18.9825 L1817.34 9.54393 Z\" fill=\"#000000\" fill-rule=\"evenodd\" fill-opacity=\"1\" /><path clip-path=\"url(#clip350)\" d=\"M 0 0 M1875.72 35.9153 Q1878.51 30.8922 1882.4 28.5022 Q1886.29 26.1121 1891.55 26.1121 Q1898.64 26.1121 1902.49 31.0947 Q1906.34 36.0368 1906.34 45.1919 L1906.34 72.576 L1898.85 72.576 L1898.85 45.4349 Q1898.85 38.913 1896.54 35.7533 Q1894.23 32.5936 1889.49 32.5936 Q1883.7 32.5936 1880.33 36.4419 Q1876.97 40.2903 1876.97 46.9338 L1876.97 72.576 L1869.48 72.576 L1869.48 45.4349 Q1869.48 38.8725 1867.17 35.7533 Q1864.86 32.5936 1860.04 32.5936 Q1854.33 32.5936 1850.96 36.4824 Q1847.6 40.3308 1847.6 46.9338 L1847.6 72.576 L1840.11 72.576 L1840.11 27.2059 L1847.6 27.2059 L1847.6 34.2544 Q1850.15 30.082 1853.72 28.0971 Q1857.28 26.1121 1862.19 26.1121 Q1867.13 26.1121 1870.57 28.6237 Q1874.05 31.1352 1875.72 35.9153 Z\" fill=\"#000000\" fill-rule=\"evenodd\" fill-opacity=\"1\" /><path clip-path=\"url(#clip350)\" d=\"M 0 0 M1960.01 48.0275 L1960.01 51.6733 L1925.74 51.6733 Q1926.23 59.3701 1930.36 63.421 Q1934.53 67.4314 1941.95 67.4314 Q1946.24 67.4314 1950.25 66.3781 Q1954.3 65.3249 1958.27 63.2184 L1958.27 70.267 Q1954.26 71.9684 1950.05 72.8596 Q1945.84 73.7508 1941.5 73.7508 Q1930.65 73.7508 1924.29 67.4314 Q1917.97 61.1119 1917.97 50.3365 Q1917.97 39.1965 1923.96 32.6746 Q1930 26.1121 1940.21 26.1121 Q1949.36 26.1121 1954.67 32.0264 Q1960.01 37.9003 1960.01 48.0275 M1952.56 45.84 Q1952.48 39.7232 1949.12 36.0774 Q1945.8 32.4315 1940.29 32.4315 Q1934.05 32.4315 1930.28 35.9558 Q1926.55 39.4801 1925.99 45.8805 L1952.56 45.84 Z\" fill=\"#000000\" fill-rule=\"evenodd\" fill-opacity=\"1\" /><polyline clip-path=\"url(#clip352)\" style=\"stroke:#009af9; stroke-width:4; stroke-opacity:1; fill:none\" points=\"\n",
       "  255.035,182.325 296.598,241.886 338.162,336.986 379.726,461.651 421.29,608.047 462.853,766.976 504.417,928.452 545.981,1082.33 587.544,1218.94 629.108,1329.69 \n",
       "  670.672,1407.64 712.236,1447.87 753.799,1447.87 795.363,1407.64 836.927,1329.69 878.491,1218.94 920.054,1082.33 961.618,928.452 1003.18,766.976 1044.75,608.047 \n",
       "  1086.31,461.651 1127.87,336.986 1169.44,241.886 1211,182.325 1252.56,162.047 1294.13,182.325 1335.69,241.886 1377.26,336.986 1418.82,461.651 1460.38,608.047 \n",
       "  1501.95,766.976 1543.51,928.452 1585.07,1082.33 1626.64,1218.94 1668.2,1329.69 1709.77,1407.64 1751.33,1447.87 1792.89,1447.87 1834.46,1407.64 1876.02,1329.69 \n",
       "  1917.58,1218.94 1959.15,1082.33 2000.71,928.452 2042.27,766.976 2083.84,608.047 2125.4,461.651 2166.97,336.986 2208.53,241.886 2250.09,182.325 2291.66,162.047 \n",
       "  \n",
       "  \"/>\n",
       "<path clip-path=\"url(#clip350)\" d=\"\n",
       "M1988.5 289.865 L2280.8 289.865 L2280.8 168.905 L1988.5 168.905  Z\n",
       "  \" fill=\"#ffffff\" fill-rule=\"evenodd\" fill-opacity=\"1\"/>\n",
       "<polyline clip-path=\"url(#clip350)\" style=\"stroke:#000000; stroke-width:4; stroke-opacity:1; fill:none\" points=\"\n",
       "  1988.5,289.865 2280.8,289.865 2280.8,168.905 1988.5,168.905 1988.5,289.865 \n",
       "  \"/>\n",
       "<polyline clip-path=\"url(#clip350)\" style=\"stroke:#009af9; stroke-width:4; stroke-opacity:1; fill:none\" points=\"\n",
       "  2012.48,229.385 2156.4,229.385 \n",
       "  \"/>\n",
       "<path clip-path=\"url(#clip350)\" d=\"M 0 0 M2194.23 249.072 Q2192.43 253.702 2190.72 255.114 Q2189 256.526 2186.13 256.526 L2182.73 256.526 L2182.73 252.961 L2185.23 252.961 Q2186.99 252.961 2187.96 252.128 Q2188.93 251.294 2190.11 248.192 L2190.88 246.248 L2180.39 220.739 L2184.91 220.739 L2193.01 241.017 L2201.11 220.739 L2205.62 220.739 L2194.23 249.072 Z\" fill=\"#000000\" fill-rule=\"evenodd\" fill-opacity=\"1\" /><path clip-path=\"url(#clip350)\" d=\"M 0 0 M2212.91 242.729 L2220.55 242.729 L2220.55 216.364 L2212.24 218.031 L2212.24 213.771 L2220.51 212.105 L2225.18 212.105 L2225.18 242.729 L2232.82 242.729 L2232.82 246.665 L2212.91 246.665 L2212.91 242.729 Z\" fill=\"#000000\" fill-rule=\"evenodd\" fill-opacity=\"1\" /></svg>\n"
      ]
     },
     "execution_count": 17,
     "metadata": {},
     "output_type": "execute_result"
    },
    {
     "name": "stderr",
     "output_type": "stream",
     "text": [
      "┌ Info: Skipping precompilation since __precompile__(false). Importing GR_jll [d2c73de3-f751-5644-a686-071e5b155ba9].\n",
      "└ @ Base loading.jl:1025\n"
     ]
    }
   ],
   "source": [
    "local_vals = run_simulation(2)\n",
    "using Pkg\n",
    "Pkg.add(\"GR\")\n",
    "plot(Array(1:50),\n",
    "     local_vals,\n",
    "     title = \"<σ_z> for leftmost site over time\")"
   ]
  },
  {
   "cell_type": "code",
   "execution_count": null,
   "metadata": {
    "scrolled": true
   },
   "outputs": [],
   "source": [
    "run_simulation(2^3)"
   ]
  },
  {
   "cell_type": "code",
   "execution_count": null,
   "metadata": {},
   "outputs": [],
   "source": [
    "run_simulation(2^4)"
   ]
  },
  {
   "cell_type": "code",
   "execution_count": null,
   "metadata": {},
   "outputs": [],
   "source": [
    "run_simulation(2^5)"
   ]
  },
  {
   "cell_type": "code",
   "execution_count": null,
   "metadata": {},
   "outputs": [],
   "source": []
  }
 ],
 "metadata": {
  "kernelspec": {
   "display_name": "Julia 1.5.3",
   "language": "julia",
   "name": "julia-1.5"
  },
  "language_info": {
   "file_extension": ".jl",
   "mimetype": "application/julia",
   "name": "julia",
   "version": "1.6.1"
  }
 },
 "nbformat": 4,
 "nbformat_minor": 5
}
