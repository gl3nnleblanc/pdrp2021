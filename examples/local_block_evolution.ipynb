{
 "cells": [
  {
   "cell_type": "code",
   "execution_count": 1,
   "id": "opening-conspiracy",
   "metadata": {},
   "outputs": [],
   "source": [
    "using LinearAlgebra\n",
    "\n",
    "include(\"../src/tebd.jl\")\n",
    "using .TimeEvolvingBlockDecimation\n",
    "using .TimeEvolvingBlockDecimation.MatrixProductState"
   ]
  },
  {
   "cell_type": "markdown",
   "id": "australian-swift",
   "metadata": {},
   "source": [
    "Let's initialize a 12 qubit state in the $|0\\cdots0\\rangle$ state. Normally we would work with the representation \n",
    "$$|\\psi\\rangle=\\left(\\begin{matrix}\n",
    "    1\\\\\n",
    "    0\\\\\n",
    "    0\\\\\n",
    "    \\vdots\\\\\n",
    "    0\n",
    "\\end{matrix}\\right)$$\n",
    "with $$|\\psi\\rangle\\in C^{\\left(2^{12}\\right)}$$\n",
    "But instead we'll expand the tensor products implicit in $$|00\\cdots0\\rangle=|0\\rangle\\otimes|0\\rangle\\otimes\\cdots$$ explicitly by writing out the full tensor. In other words we will instead use\n",
    "    $$|\\psi\\rangle\\in C^{2\\times2\\times\\cdots\\times2}$$\n",
    "    with\n",
    "    $$(|\\psi\\rangle)_{00\\cdots0}=1.$$"
   ]
  },
  {
   "cell_type": "code",
   "execution_count": 2,
   "id": "compatible-spyware",
   "metadata": {},
   "outputs": [],
   "source": [
    "sites = 12\n",
    "ψ = zeros((2 for _=1:sites)...)\n",
    "ψ[(1 for _=1:sites)...] = 1;"
   ]
  },
  {
   "cell_type": "markdown",
   "id": "advised-macintosh",
   "metadata": {},
   "source": [
    "Now we convert $|\\psi\\rangle$ into an MPS:"
   ]
  },
  {
   "cell_type": "code",
   "execution_count": 3,
   "id": "subsequent-straight",
   "metadata": {},
   "outputs": [],
   "source": [
    "ψ_mps = mps(ψ);"
   ]
  },
  {
   "cell_type": "markdown",
   "id": "prompt-orientation",
   "metadata": {},
   "source": [
    "With this representation, it is much less constly to apply local operators to the state $|\\psi\\rangle$. Instead of calculating the matrix exponential $e^{-i\\hat{H}t}$ using the full hamiltonian $\\hat{H}$, we can apply one- or two-local operators at each site in the chain, reinforce the maximum allowed bond dimension, and repeat for each site or pair of sites that is included in $\\hat{H}$."
   ]
  },
  {
   "cell_type": "code",
   "execution_count": 4,
   "id": "answering-equipment",
   "metadata": {},
   "outputs": [],
   "source": [
    "# Define Pauli basis and tensor product shorthand.\n",
    "# Use t=π/6 for this example.\n",
    "⊗ = kron\n",
    "I = [1 0; 0 1]\n",
    "σ_x = [0 1; 1 0]\n",
    "σ_y = [0 -1im; 1im 0]\n",
    "σ_z = [1 0; 0 -1]\n",
    "\n",
    "t = π / 6;"
   ]
  },
  {
   "cell_type": "markdown",
   "id": "metric-sherman",
   "metadata": {},
   "source": [
    "First, let's calculate the time-evolved state\n",
    "$$|\\psi(t)\\rangle = exp\\left\\{-i\\hat{H}t\\right\\}|\\psi\\rangle,$$\n",
    "where the Hamiltonian\n",
    "$$\\hat{H}=\\sum_i\\sigma_x^{(i)}$$\n",
    "is a time-independent sum of single-qubit operators. The extremely naive method to calculate $|\\psi(t)\\rangle$ is to first calculate the matrix exponential, then do a matrix-vector multiplication. Let's do it this way first:"
   ]
  },
  {
   "cell_type": "code",
   "execution_count": 5,
   "id": "fiscal-class",
   "metadata": {},
   "outputs": [
    {
     "name": "stdout",
     "output_type": "stream",
     "text": [
      " 24.743324 seconds (6.68 M allocations: 4.726 GiB, 0.96% gc time, 7.56% compilation time)\n"
     ]
    },
    {
     "data": {
      "text/plain": [
       "4096-element Vector{ComplexF64}:\n",
       "    0.17797851562499956 + 0.0im\n",
       "                    0.0 - 0.10275594390606246im\n",
       "                    0.0 - 0.10275594390606206im\n",
       "   -0.05932617187500035 + 0.0im\n",
       "                    0.0 - 0.10275594390606241im\n",
       "   -0.05932617187500032 + 0.0im\n",
       "   -0.05932617187500048 + 0.0im\n",
       "                    0.0 + 0.034251981302021194im\n",
       "                    0.0 - 0.10275594390606213im\n",
       "  -0.059326171875000305 + 0.0im\n",
       "  -0.059326171875000305 + 0.0im\n",
       "                    0.0 + 0.03425198130202117im\n",
       "  -0.059326171875000416 + 0.0im\n",
       "                        ⋮\n",
       "                    0.0 - 0.001268591900074864im\n",
       " -0.0007324218750000013 + 0.0im\n",
       " -0.0007324218750000011 + 0.0im\n",
       "                    0.0 + 0.0004228639666916218im\n",
       "                    0.0 - 0.001268591900074864im\n",
       " -0.0007324218750000008 + 0.0im\n",
       "  -0.000732421875000001 + 0.0im\n",
       "                    0.0 + 0.00042286396669162214im\n",
       "  -0.000732421875000001 + 0.0im\n",
       "                    0.0 + 0.000422863966691622im\n",
       "                    0.0 + 0.00042286396669162203im\n",
       "  0.0002441406250000006 + 0.0im"
      ]
     },
     "execution_count": 5,
     "metadata": {},
     "output_type": "execute_result"
    }
   ],
   "source": [
    "# The not as fast way\n",
    "\n",
    "# Helper function for calculating H. We only use local terms in this example.\n",
    "function ising_matrix(sites::Integer, local_only::Bool = false)\n",
    "        I = [\n",
    "            1 0\n",
    "            0 1\n",
    "        ]\n",
    "        identity_string = [I for _ = 1:sites]\n",
    "        local_term = zeros(2^sites, 2^sites)\n",
    "        interaction_term = zeros(2^sites, 2^sites)\n",
    "\n",
    "        for i = 1:sites\n",
    "            pauli_string = copy(identity_string)\n",
    "            pauli_string[i] = σ_x\n",
    "            local_term += reduce(kron, pauli_string)\n",
    "        end\n",
    "\n",
    "        for i = 1:sites-1\n",
    "            pauli_string = copy(identity_string)\n",
    "            pauli_string[i] = σ_z\n",
    "            pauli_string[i+1] = σ_z\n",
    "            interaction_term += reduce(kron, pauli_string)\n",
    "        end\n",
    "        if local_only\n",
    "            return local_term\n",
    "        end\n",
    "        return interaction_term + local_term\n",
    "end\n",
    "\n",
    "# Only use local terms for H:\n",
    "H = ising_matrix(sites, true)\n",
    "ψ_vect = zeros(2^sites)\n",
    "ψ_vect[1] = 1\n",
    "\n",
    "# Naive method: do the matrix exponential followed by a matrix-vector multiplication.\n",
    "@time ψ_res_vect = exp(H * t * -1im) * ψ_vect"
   ]
  },
  {
   "cell_type": "markdown",
   "id": "cross-structure",
   "metadata": {},
   "source": [
    "Thanks to the `@time` macro, we can see that this calculation takes about 20 seconds and uses a whole lot of memory. Pretty bad. Alternatively, let's use block evolution on a MPS representation of $|\\psi\\rangle$. With this method, we only do twelve $2\\times2$ matrix-vector multiplications, and since our initial state was unentangled the result is exact. Where our initial state (or system Hamiltonian) more highly entangled (entangling) the MPS representation (block evolution) would do a poorer job approximating the full matrix multiplication."
   ]
  },
  {
   "cell_type": "code",
   "execution_count": 6,
   "id": "ordered-romantic",
   "metadata": {},
   "outputs": [
    {
     "name": "stdout",
     "output_type": "stream",
     "text": [
      "  2.155233 seconds (8.01 M allocations: 436.644 MiB, 99.47% compilation time)\n"
     ]
    },
    {
     "data": {
      "text/plain": [
       "4096-element Vector{ComplexF64}:\n",
       "      0.1779785156250009 - 7.705139889271523e-35im\n",
       "  -4.448564589214635e-35 - 0.10275594390606424im\n",
       "  -1.689546579027104e-35 - 0.10275594390606424im\n",
       "    -0.05932617187500025 + 9.754601722097095e-36im\n",
       "   7.323680981525651e-35 - 0.10275594390606425im\n",
       "    -0.05932617187500026 - 4.228329186142776e-35im\n",
       "   -0.059326171875000264 - 1.605902076541324e-35im\n",
       "  -9.271679961833121e-36 + 0.034251981302021395im\n",
       "  -4.448564589214636e-35 - 0.10275594390606424im\n",
       "    -0.05932617187500025 + 2.568379963090506e-35im\n",
       "    -0.05932617187500025 + 9.754601722097097e-36im\n",
       "  5.6318219300903436e-36 + 0.03425198130202139im\n",
       "    -0.05932617187500027 - 4.2283291861427763e-35im\n",
       "                         ⋮\n",
       "   9.041581458673635e-37 - 0.0012685919000748663im\n",
       "  -0.0007324218750000026 - 5.22015948906515e-37im\n",
       "  -0.0007324218750000027 - 1.982595156223855e-37im\n",
       " -1.1446518471398905e-37 + 0.0004228639666916218im\n",
       "  -5.492055048413126e-37 - 0.001268591900074866im\n",
       "  -0.0007324218750000024 + 3.1708394606055605e-37im\n",
       "  -0.0007324218750000025 + 1.2042718175428501e-37im\n",
       "   6.952866580358441e-38 + 0.0004228639666916217im\n",
       "  -0.0007324218750000025 - 5.22015948906515e-37im\n",
       " -3.0138604862245426e-37 + 0.0004228639666916217im\n",
       " -1.1446518471398905e-37 + 0.00042286396669162176im\n",
       "  0.00024414062500000065 + 6.608650520746179e-38im"
      ]
     },
     "execution_count": 6,
     "metadata": {},
     "output_type": "execute_result"
    }
   ],
   "source": [
    "# The fast way\n",
    "local_only_ising = Hamiltonian(0 * (σ_z ⊗ σ_z), σ_x)\n",
    "@time ψ_res = reshape(contract_mps(block_evolve(ψ_mps, local_only_ising, t * -1im)), 2^sites)"
   ]
  },
  {
   "cell_type": "markdown",
   "id": "norwegian-essex",
   "metadata": {},
   "source": [
    "To prove the two results are equal:"
   ]
  },
  {
   "cell_type": "code",
   "execution_count": 7,
   "id": "desperate-investment",
   "metadata": {},
   "outputs": [
    {
     "data": {
      "text/plain": [
       "1.0000000000000018 - 1.2379560085042535e-34im"
      ]
     },
     "execution_count": 7,
     "metadata": {},
     "output_type": "execute_result"
    }
   ],
   "source": [
    "dot(ψ_res_vect, ψ_res)"
   ]
  },
  {
   "cell_type": "markdown",
   "id": "parallel-former",
   "metadata": {},
   "source": [
    "Let's switch to a full Ising model. Now\n",
    "$$\\hat{H}=\\sum_{i=1}^{N-1}\\sigma_z^{(i)}\\sigma_z^{(i+1)}+J\\sum_{i=1}^N\\sigma_x^{(i)}$$\n",
    "where $J$ tunes the relative strength of the transverse field. For this example we set $J=1.$\n",
    "\n",
    "Since now $\\hat{H}$ generates entanglement, the fidelity of the block-evolved state will not be as high as $t$ grows."
   ]
  },
  {
   "cell_type": "code",
   "execution_count": 11,
   "id": "cross-desperate",
   "metadata": {},
   "outputs": [
    {
     "name": "stdout",
     "output_type": "stream",
     "text": [
      " 21.482188 seconds (40 allocations: 3.875 GiB, 0.62% gc time)\n"
     ]
    },
    {
     "data": {
      "text/plain": [
       "4096-element Vector{ComplexF64}:\n",
       "    -0.3168174574843962 - 0.7755259603361564im\n",
       "   -0.14364874560133256 + 0.030584965000867288im\n",
       "    -0.1444270503942686 + 0.004587782983301147im\n",
       "  0.0023264866112235757 + 0.0256878843715555im\n",
       "   -0.14438166572085126 + 0.004600242805783457im\n",
       " -0.0036929732425348112 + 0.025062856024926063im\n",
       " -0.0022625234387036843 + 0.02554451715454213im\n",
       "   0.004524743920254005 + 0.00013207642052309092im\n",
       "   -0.14438171766115457 + 0.00460033018967343im\n",
       " -0.0036892439259126704 + 0.025054905770147868im\n",
       "  -0.007943257210864018 + 0.023625183820638076im\n",
       "  0.0042928661704610994 + 0.001168497237293148im\n",
       "  -0.002259932409406792 + 0.025536635166686493im\n",
       "                        ⋮\n",
       "  -7.210529034633393e-8 - 1.0816616495191158e-7im\n",
       " -2.0910018363390726e-8 + 9.083692358789918e-9im\n",
       " -2.0598452412061543e-8 + 1.0406320648650516e-8im\n",
       "  2.0486442828344457e-9 + 3.5209859104309628e-9im\n",
       "  -9.711270670731724e-8 - 8.979456730424921e-8im\n",
       "  -1.850874666452613e-8 + 1.3968038270991013e-8im\n",
       "  -2.036388296384205e-8 + 1.0302115050653548e-8im\n",
       "   2.048608453593555e-9 + 3.5210151051465544e-9im\n",
       " -1.7678613656021854e-8 + 1.5042771864320758e-8im\n",
       "  2.0470290365690223e-9 + 3.518728279387735e-9im\n",
       "  2.2517123911159328e-9 + 3.3964643242736583e-9im\n",
       "  5.752921311650688e-10 - 4.317793850364295e-10im"
      ]
     },
     "execution_count": 11,
     "metadata": {},
     "output_type": "execute_result"
    }
   ],
   "source": [
    "# The not as fast way\n",
    "t = π/18\n",
    "# Set H to the full ising matrix as above:\n",
    "H = ising_matrix(sites, false)\n",
    "ψ_vect = zeros(2^sites)\n",
    "ψ_vect[1] = 1\n",
    "\n",
    "# Naive method: do the matrix exponential followed by a matrix-vector multiplication.\n",
    "@time ψ_res_vect = exp(H * t * -1im) * ψ_vect"
   ]
  },
  {
   "cell_type": "code",
   "execution_count": 12,
   "id": "mobile-quick",
   "metadata": {},
   "outputs": [
    {
     "name": "stdout",
     "output_type": "stream",
     "text": [
      "  0.005370 seconds (134.89 k allocations: 9.754 MiB)\n"
     ]
    },
    {
     "data": {
      "text/plain": [
       "4096-element Vector{ComplexF64}:\n",
       "     -0.306574384763973 - 0.777853726001379im\n",
       "   -0.14739219093561268 + 0.0031096975439932517im\n",
       "   -0.14335337000556025 - 0.02255730886426206im\n",
       "  -0.003977462164943617 + 0.025277066907463855im\n",
       "   -0.14335337000556025 - 0.022557308864262007im\n",
       "  -0.012500776468383358 + 0.0223266859252661im\n",
       "  -0.008239119316663495 + 0.02380187641636498im\n",
       "   0.004196913003693655 + 0.0014527790328040637im\n",
       "   -0.14335337000556028 - 0.022557308864262042im\n",
       "  -0.012500776468383365 + 0.022326685925266102im\n",
       "  -0.015985833308352657 + 0.019464468692766627im\n",
       "   0.003432110995689981 + 0.0028187337213706346im\n",
       "  -0.008239119316663497 + 0.023801876416364984im\n",
       "                        ⋮\n",
       " -2.1085083024453163e-8 - 1.1957944802171162e-7im\n",
       " -2.1065182803480514e-8 - 3.829014195727783e-9im\n",
       " -2.1075132913966878e-8 - 5.557258401932856e-11im\n",
       "  -9.79894595029493e-12 + 3.7161145547493717e-9im\n",
       "  -6.126579825068748e-8 - 1.0483476083833727e-7im\n",
       " -2.1085083024453232e-8 + 3.7178690276891284e-9im\n",
       " -2.1075132913966875e-8 - 5.557258401933115e-11im\n",
       " -9.798945950295137e-12 + 3.7161145547493713e-9im\n",
       "  -1.978513993818563e-8 + 7.260341126963399e-9im\n",
       " -9.798945950296449e-12 + 3.7161145547493705e-9im\n",
       "  6.351975419403262e-10 + 3.602384271472055e-9im\n",
       "  6.351975419403304e-10 - 1.1200246472377629e-10im"
      ]
     },
     "execution_count": 12,
     "metadata": {},
     "output_type": "execute_result"
    }
   ],
   "source": [
    "ising = Hamiltonian(σ_z ⊗ σ_z, σ_x)\n",
    "@time ψ_res = reshape(contract_mps(block_evolve(ψ_mps, ising, t * -1im)), 2^sites)"
   ]
  },
  {
   "cell_type": "code",
   "execution_count": 10,
   "id": "described-birthday",
   "metadata": {},
   "outputs": [
    {
     "data": {
      "text/plain": [
       "0.21694345086338168 + 0.784587895340711im"
      ]
     },
     "execution_count": 10,
     "metadata": {},
     "output_type": "execute_result"
    }
   ],
   "source": [
    "dot(ψ_res_vect, ψ_res)"
   ]
  },
  {
   "cell_type": "code",
   "execution_count": 14,
   "id": "solar-swift",
   "metadata": {},
   "outputs": [
    {
     "ename": "LoadError",
     "evalue": "DimensionMismatch(\"new dimensions (2, 128) must be consistent with array size 16\")",
     "output_type": "error",
     "traceback": [
      "DimensionMismatch(\"new dimensions (2, 128) must be consistent with array size 16\")",
      "",
      "Stacktrace:",
      " [1] (::Base.var\"#throw_dmrsa#234\")(dims::Tuple{Int64, Int64}, len::Int64)",
      "   @ Base ./reshapedarray.jl:41",
      " [2] reshape",
      "   @ ./reshapedarray.jl:45 [inlined]",
      " [3] reshape",
      "   @ ./reshapedarray.jl:116 [inlined]",
      " [4] split_tensor(A::Array{ComplexF64, 3}, left_axis_dim::Int64, right_axis_dim::Int64, bond_dim::Int64)",
      "   @ Main.TimeEvolvingBlockDecimation.MatrixProductState ~/UCB/directed_reading/pdrp2021/src/mps.jl:152",
      " [5] block_evolve(ψ::MPS, H::Hamiltonian, t::ComplexF64)",
      "   @ Main.TimeEvolvingBlockDecimation ~/UCB/directed_reading/pdrp2021/src/tebd.jl:39",
      " [6] top-level scope",
      "   @ ./timing.jl:210 [inlined]",
      " [7] top-level scope",
      "   @ ./In[14]:0",
      " [8] eval",
      "   @ ./boot.jl:360 [inlined]",
      " [9] include_string(mapexpr::typeof(REPL.softscope), mod::Module, code::String, filename::String)",
      "   @ Base ./loading.jl:1094"
     ]
    }
   ],
   "source": [
    "ψ_mps_high_χ = mps(ψ, 2^(sites ÷ 2))\n",
    "@time ψ_res_better = reshape(contract_mps(block_evolve(ψ_mps_high_χ, ising, t * -1im)), 2^sites)\n",
    "#TODO: fix this"
   ]
  },
  {
   "cell_type": "code",
   "execution_count": null,
   "id": "brilliant-wellington",
   "metadata": {},
   "outputs": [],
   "source": []
  }
 ],
 "metadata": {
  "kernelspec": {
   "display_name": "Julia 1.5.3",
   "language": "julia",
   "name": "julia-1.5"
  },
  "language_info": {
   "file_extension": ".jl",
   "mimetype": "application/julia",
   "name": "julia",
   "version": "1.6.0"
  }
 },
 "nbformat": 4,
 "nbformat_minor": 5
}
