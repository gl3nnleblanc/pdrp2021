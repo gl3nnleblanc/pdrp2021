{
 "cells": [
  {
   "cell_type": "code",
   "execution_count": 1,
   "id": "opening-conspiracy",
   "metadata": {},
   "outputs": [],
   "source": [
    "using LinearAlgebra\n",
    "\n",
    "include(\"../src/tebd.jl\")\n",
    "using .TimeEvolvingBlockDecimation\n",
    "using .TimeEvolvingBlockDecimation.MatrixProductState"
   ]
  },
  {
   "cell_type": "markdown",
   "id": "australian-swift",
   "metadata": {},
   "source": [
    "Let's initialize a 12 qubit state in the $|0\\cdots0\\rangle$ state. Normally we would work with the representation \n",
    "$$|\\psi\\rangle=\\left(\\begin{matrix}\n",
    "    1\\\\\n",
    "    0\\\\\n",
    "    0\\\\\n",
    "    \\vdots\\\\\n",
    "    0\n",
    "\\end{matrix}\\right)$$\n",
    "with $$|\\psi\\rangle\\in C^{\\left(2^{12}\\right)}$$\n",
    "But instead we'll expand the tensor products implicit in $$|00\\cdots0\\rangle=|0\\rangle\\otimes|0\\rangle\\otimes\\cdots$$ explicitly by writing out the full tensor. In other words we will instead use\n",
    "    $$|\\psi\\rangle\\in C^{2\\times2\\times\\cdots\\times2}$$\n",
    "    with\n",
    "    $$(|\\psi\\rangle)_{00\\cdots0}=1.$$"
   ]
  },
  {
   "cell_type": "code",
   "execution_count": 2,
   "id": "compatible-spyware",
   "metadata": {},
   "outputs": [],
   "source": [
    "sites = 12\n",
    "ψ = zeros((2 for _=1:sites)...)\n",
    "ψ[(1 for _=1:sites)...] = 1;"
   ]
  },
  {
   "cell_type": "markdown",
   "id": "advised-macintosh",
   "metadata": {},
   "source": [
    "Now we convert $|\\psi\\rangle$ into an MPS:"
   ]
  },
  {
   "cell_type": "code",
   "execution_count": 3,
   "id": "subsequent-straight",
   "metadata": {},
   "outputs": [],
   "source": [
    "ψ_mps = mps(ψ);"
   ]
  },
  {
   "cell_type": "markdown",
   "id": "prompt-orientation",
   "metadata": {},
   "source": [
    "With this representation, it is much less constly to apply local operators to the state $|\\psi\\rangle$. Instead of calculating the matrix exponential $e^{-i\\hat{H}t}$ using the full hamiltonian $\\hat{H}$, we can apply one- or two-local operators at each site in the chain, reinforce the maximum allowed bond dimension, and repeat for each site or pair of sites that is included in $\\hat{H}$."
   ]
  },
  {
   "cell_type": "code",
   "execution_count": 4,
   "id": "answering-equipment",
   "metadata": {},
   "outputs": [],
   "source": [
    "# Define Pauli basis and tensor product shorthand.\n",
    "# Use t=π/6 for this example.\n",
    "⊗ = kron\n",
    "I = [1 0; 0 1]\n",
    "σ_x = [0 1; 1 0]\n",
    "σ_y = [0 -1im; 1im 0]\n",
    "σ_z = [1 0; 0 -1]\n",
    "\n",
    "t = π / 6;"
   ]
  },
  {
   "cell_type": "markdown",
   "id": "metric-sherman",
   "metadata": {},
   "source": [
    "First, let's calculate the time-evolved state\n",
    "$$|\\psi(t)\\rangle = exp\\left\\{-i\\hat{H}t\\right\\}|\\psi\\rangle,$$\n",
    "where the Hamiltonian\n",
    "$$\\hat{H}=\\sum_i\\sigma_x^{(i)}$$\n",
    "is a time-independent sum of single-qubit operators. The extremely naive method to calculate $|\\psi(t)\\rangle$ is to first calculate the matrix exponential, then do a matrix-vector multiplication. Let's do it this way first:"
   ]
  },
  {
   "cell_type": "code",
   "execution_count": 5,
   "id": "fiscal-class",
   "metadata": {},
   "outputs": [
    {
     "name": "stdout",
     "output_type": "stream",
     "text": [
      " 27.308956 seconds (6.68 M allocations: 4.726 GiB, 1.03% gc time, 6.94% compilation time)\n"
     ]
    },
    {
     "data": {
      "text/plain": [
       "4096-element Vector{ComplexF64}:\n",
       "    0.17797851562499956 + 0.0im\n",
       "                    0.0 - 0.10275594390606246im\n",
       "                    0.0 - 0.10275594390606206im\n",
       "   -0.05932617187500035 + 0.0im\n",
       "                    0.0 - 0.10275594390606241im\n",
       "   -0.05932617187500032 + 0.0im\n",
       "   -0.05932617187500048 + 0.0im\n",
       "                    0.0 + 0.034251981302021194im\n",
       "                    0.0 - 0.10275594390606213im\n",
       "  -0.059326171875000305 + 0.0im\n",
       "  -0.059326171875000305 + 0.0im\n",
       "                    0.0 + 0.03425198130202117im\n",
       "  -0.059326171875000416 + 0.0im\n",
       "                        ⋮\n",
       "                    0.0 - 0.001268591900074864im\n",
       " -0.0007324218750000013 + 0.0im\n",
       " -0.0007324218750000011 + 0.0im\n",
       "                    0.0 + 0.0004228639666916218im\n",
       "                    0.0 - 0.001268591900074864im\n",
       " -0.0007324218750000008 + 0.0im\n",
       "  -0.000732421875000001 + 0.0im\n",
       "                    0.0 + 0.00042286396669162214im\n",
       "  -0.000732421875000001 + 0.0im\n",
       "                    0.0 + 0.000422863966691622im\n",
       "                    0.0 + 0.00042286396669162203im\n",
       "  0.0002441406250000006 + 0.0im"
      ]
     },
     "execution_count": 5,
     "metadata": {},
     "output_type": "execute_result"
    }
   ],
   "source": [
    "# The not as fast way\n",
    "\n",
    "# Helper function for calculating H. We only use local terms in this example.\n",
    "function ising_matrix(sites::Integer, local_only::Bool = false)\n",
    "        I = [\n",
    "            1 0\n",
    "            0 1\n",
    "        ]\n",
    "        identity_string = [I for _ = 1:sites]\n",
    "        local_term = zeros(2^sites, 2^sites)\n",
    "        interaction_term = zeros(2^sites, 2^sites)\n",
    "\n",
    "        for i = 1:sites\n",
    "            pauli_string = copy(identity_string)\n",
    "            pauli_string[i] = σ_x\n",
    "            local_term += reduce(kron, pauli_string)\n",
    "        end\n",
    "\n",
    "        for i = 1:sites-1\n",
    "            pauli_string = copy(identity_string)\n",
    "            pauli_string[i] = σ_z\n",
    "            pauli_string[i+1] = σ_z\n",
    "            interaction_term += reduce(kron, pauli_string)\n",
    "        end\n",
    "        if local_only\n",
    "            return local_term\n",
    "        end\n",
    "        return interaction_term + local_term\n",
    "end\n",
    "\n",
    "# Only use local terms for H:\n",
    "H = ising_matrix(sites, true)\n",
    "ψ_vect = zeros(2^sites)\n",
    "ψ_vect[1] = 1\n",
    "\n",
    "# Naive method: do the matrix exponential followed by a matrix-vector multiplication.\n",
    "@time ψ_res_vect = exp(H * t * -1im) * ψ_vect"
   ]
  },
  {
   "cell_type": "markdown",
   "id": "cross-structure",
   "metadata": {},
   "source": [
    "Thanks to the `@time` macro, we can see that this calculation takes about 20 seconds and uses a whole lot of memory. Pretty bad. Alternatively, let's use block evolution on a MPS representation of $|\\psi\\rangle$. With this method, we only do twelve $2\\times2$ matrix-vector multiplications, and since our initial state was unentangled the result is exact. Where our initial state (or system Hamiltonian) more highly entangled (entangling) the MPS representation (block evolution) would do a poorer job approximating the full matrix multiplication."
   ]
  },
  {
   "cell_type": "code",
   "execution_count": 8,
   "id": "ordered-romantic",
   "metadata": {},
   "outputs": [
    {
     "name": "stdout",
     "output_type": "stream",
     "text": [
      "  0.007025 seconds (134.89 k allocations: 9.755 MiB)\n"
     ]
    },
    {
     "data": {
      "text/plain": [
       "4096-element Vector{ComplexF64}:\n",
       "      0.1779785156250009 - 7.705139889271523e-35im\n",
       "  -4.448564589214635e-35 - 0.10275594390606424im\n",
       "  -1.689546579027104e-35 - 0.10275594390606424im\n",
       "    -0.05932617187500025 + 9.754601722097095e-36im\n",
       "   7.323680981525651e-35 - 0.10275594390606425im\n",
       "    -0.05932617187500026 - 4.228329186142776e-35im\n",
       "   -0.059326171875000264 - 1.605902076541324e-35im\n",
       "  -9.271679961833121e-36 + 0.034251981302021395im\n",
       "  -4.448564589214636e-35 - 0.10275594390606424im\n",
       "    -0.05932617187500025 + 2.568379963090506e-35im\n",
       "    -0.05932617187500025 + 9.754601722097097e-36im\n",
       "  5.6318219300903436e-36 + 0.03425198130202139im\n",
       "    -0.05932617187500027 - 4.2283291861427763e-35im\n",
       "                         ⋮\n",
       "   9.041581458673635e-37 - 0.0012685919000748663im\n",
       "  -0.0007324218750000026 - 5.22015948906515e-37im\n",
       "  -0.0007324218750000027 - 1.982595156223855e-37im\n",
       " -1.1446518471398905e-37 + 0.0004228639666916218im\n",
       "  -5.492055048413126e-37 - 0.001268591900074866im\n",
       "  -0.0007324218750000024 + 3.1708394606055605e-37im\n",
       "  -0.0007324218750000025 + 1.2042718175428501e-37im\n",
       "   6.952866580358441e-38 + 0.0004228639666916217im\n",
       "  -0.0007324218750000025 - 5.22015948906515e-37im\n",
       " -3.0138604862245426e-37 + 0.0004228639666916217im\n",
       " -1.1446518471398905e-37 + 0.00042286396669162176im\n",
       "  0.00024414062500000065 + 6.608650520746179e-38im"
      ]
     },
     "execution_count": 8,
     "metadata": {},
     "output_type": "execute_result"
    }
   ],
   "source": [
    "# The fast way\n",
    "local_only_ising = Hamiltonian(0 * (σ_z ⊗ σ_z), σ_x)\n",
    "@time ψ_res = reshape(contract_mps(block_evolve(ψ_mps, local_only_ising, t * -1im)), 2^sites)"
   ]
  },
  {
   "cell_type": "markdown",
   "id": "norwegian-essex",
   "metadata": {},
   "source": [
    "To prove the two results are equal:"
   ]
  },
  {
   "cell_type": "code",
   "execution_count": 9,
   "id": "desperate-investment",
   "metadata": {},
   "outputs": [
    {
     "data": {
      "text/plain": [
       "1.0000000000000018 - 1.2379560085042535e-34im"
      ]
     },
     "execution_count": 9,
     "metadata": {},
     "output_type": "execute_result"
    }
   ],
   "source": [
    "dot(ψ_res_vect, ψ_res)"
   ]
  },
  {
   "cell_type": "code",
   "execution_count": null,
   "id": "sized-polls",
   "metadata": {},
   "outputs": [],
   "source": []
  }
 ],
 "metadata": {
  "kernelspec": {
   "display_name": "Julia 1.5.3",
   "language": "julia",
   "name": "julia-1.5"
  },
  "language_info": {
   "file_extension": ".jl",
   "mimetype": "application/julia",
   "name": "julia",
   "version": "1.6.0"
  }
 },
 "nbformat": 4,
 "nbformat_minor": 5
}
