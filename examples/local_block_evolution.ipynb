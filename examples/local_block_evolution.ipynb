{
 "cells": [
  {
   "cell_type": "code",
   "execution_count": 2,
   "id": "opening-conspiracy",
   "metadata": {},
   "outputs": [],
   "source": [
    "using LinearAlgebra\n",
    "\n",
    "include(\"../src/tebd.jl\")\n",
    "using .TimeEvolvingBlockDecimation\n",
    "using .TimeEvolvingBlockDecimation.MatrixProductState"
   ]
  },
  {
   "cell_type": "markdown",
   "id": "australian-swift",
   "metadata": {},
   "source": [
    "Let's initialize a 12 qubit state in the $|0\\cdots0\\rangle$ state. Normally we would work with the representation \n",
    "$$|\\psi\\rangle=\\left(\\begin{matrix}\n",
    "    1\\\\\n",
    "    0\\\\\n",
    "    0\\\\\n",
    "    \\vdots\\\\\n",
    "    0\n",
    "\\end{matrix}\\right)$$\n",
    "with $$|\\psi\\rangle\\in C^{\\left(2^{12}\\right)}$$\n",
    "But instead we'll expand the tensor products implicit in $$|00\\cdots0\\rangle=|0\\rangle\\otimes|0\\rangle\\otimes\\cdots$$ explicitly by writing out the full tensor. In other words we will instead use\n",
    "    $$|\\psi\\rangle\\in C^{2\\times2\\times\\cdots\\times2}$$\n",
    "    with\n",
    "    $$(|\\psi\\rangle)_{00\\cdots0}=1.$$"
   ]
  },
  {
   "cell_type": "code",
   "execution_count": 3,
   "id": "compatible-spyware",
   "metadata": {},
   "outputs": [],
   "source": [
    "sites = 12\n",
    "ψ = zeros((2 for _=1:sites)...)\n",
    "ψ[(1 for _=1:sites)...] = 1;"
   ]
  },
  {
   "cell_type": "markdown",
   "id": "advised-macintosh",
   "metadata": {},
   "source": [
    "Now we convert $|\\psi\\rangle$ into an MPS:"
   ]
  },
  {
   "cell_type": "code",
   "execution_count": 4,
   "id": "subsequent-straight",
   "metadata": {},
   "outputs": [],
   "source": [
    "ψ_mps = mps(ψ);"
   ]
  },
  {
   "cell_type": "markdown",
   "id": "prompt-orientation",
   "metadata": {},
   "source": [
    "With this representation, it is much less constly to apply local operators to the state $|\\psi\\rangle$. Instead of calculating the matrix exponential $e^{-i\\hat{H}t}$ using the full hamiltonian $\\hat{H}$, we can apply one- or two-local operators at each site in the chain, reinforce the maximum allowed bond dimension, and repeat for each site or pair of sites that is included in $\\hat{H}$."
   ]
  },
  {
   "cell_type": "code",
   "execution_count": 5,
   "id": "answering-equipment",
   "metadata": {},
   "outputs": [],
   "source": [
    "# Define Pauli basis and tensor product shorthand.\n",
    "# Use t=π/6 for this example.\n",
    "⊗ = kron\n",
    "I = [1 0; 0 1]\n",
    "σ_x = [0 1; 1 0]\n",
    "σ_y = [0 -1im; 1im 0]\n",
    "σ_z = [1 0; 0 -1]\n",
    "\n",
    "t = π / 6;"
   ]
  },
  {
   "cell_type": "markdown",
   "id": "metric-sherman",
   "metadata": {},
   "source": [
    "First, let's calculate the time-evolved state\n",
    "$$|\\psi(t)\\rangle = exp\\left\\{-i\\hat{H}t\\right\\}|\\psi\\rangle,$$\n",
    "where the Hamiltonian\n",
    "$$\\hat{H}=\\sum_i\\sigma_x^{(i)}$$\n",
    "is a time-independent sum of single-qubit operators. The extremely naive method to calculate $|\\psi(t)\\rangle$ is to first calculate the matrix exponential, then do a matrix-vector multiplication. Let's do it this way first:"
   ]
  },
  {
   "cell_type": "code",
   "execution_count": 6,
   "id": "fiscal-class",
   "metadata": {},
   "outputs": [
    {
     "name": "stdout",
     "output_type": "stream",
     "text": [
      " 25.137880 seconds (6.68 M allocations: 4.726 GiB, 1.03% gc time, 7.25% compilation time)\n"
     ]
    },
    {
     "data": {
      "text/plain": [
       "4096-element Vector{ComplexF64}:\n",
       "    0.17797851562499956 + 0.0im\n",
       "                    0.0 - 0.10275594390606246im\n",
       "                    0.0 - 0.10275594390606206im\n",
       "   -0.05932617187500035 + 0.0im\n",
       "                    0.0 - 0.10275594390606241im\n",
       "   -0.05932617187500032 + 0.0im\n",
       "   -0.05932617187500048 + 0.0im\n",
       "                    0.0 + 0.034251981302021194im\n",
       "                    0.0 - 0.10275594390606213im\n",
       "  -0.059326171875000305 + 0.0im\n",
       "  -0.059326171875000305 + 0.0im\n",
       "                    0.0 + 0.03425198130202117im\n",
       "  -0.059326171875000416 + 0.0im\n",
       "                        ⋮\n",
       "                    0.0 - 0.001268591900074864im\n",
       " -0.0007324218750000013 + 0.0im\n",
       " -0.0007324218750000011 + 0.0im\n",
       "                    0.0 + 0.0004228639666916218im\n",
       "                    0.0 - 0.001268591900074864im\n",
       " -0.0007324218750000008 + 0.0im\n",
       "  -0.000732421875000001 + 0.0im\n",
       "                    0.0 + 0.00042286396669162214im\n",
       "  -0.000732421875000001 + 0.0im\n",
       "                    0.0 + 0.000422863966691622im\n",
       "                    0.0 + 0.00042286396669162203im\n",
       "  0.0002441406250000006 + 0.0im"
      ]
     },
     "execution_count": 6,
     "metadata": {},
     "output_type": "execute_result"
    }
   ],
   "source": [
    "# The not as fast way\n",
    "\n",
    "# Helper function for calculating H. We only use local terms in this example.\n",
    "function ising_matrix(sites::Integer, local_only::Bool = false)\n",
    "        I = [\n",
    "            1 0\n",
    "            0 1\n",
    "        ]\n",
    "        identity_string = [I for _ = 1:sites]\n",
    "        local_term = zeros(2^sites, 2^sites)\n",
    "        interaction_term = zeros(2^sites, 2^sites)\n",
    "\n",
    "        for i = 1:sites\n",
    "            pauli_string = copy(identity_string)\n",
    "            pauli_string[i] = σ_x\n",
    "            local_term += reduce(kron, pauli_string)\n",
    "        end\n",
    "\n",
    "        for i = 1:sites-1\n",
    "            pauli_string = copy(identity_string)\n",
    "            pauli_string[i] = σ_z\n",
    "            pauli_string[i+1] = σ_z\n",
    "            interaction_term += reduce(kron, pauli_string)\n",
    "        end\n",
    "        if local_only\n",
    "            return local_term\n",
    "        end\n",
    "        return interaction_term + local_term\n",
    "end\n",
    "\n",
    "# Only use local terms for H:\n",
    "H = ising_matrix(sites, true)\n",
    "ψ_vect = zeros(2^sites)\n",
    "ψ_vect[1] = 1\n",
    "\n",
    "# Naive method: do the matrix exponential followed by a matrix-vector multiplication.\n",
    "@time ψ_res_vect = exp(H * t * -1im) * ψ_vect"
   ]
  },
  {
   "cell_type": "markdown",
   "id": "cross-structure",
   "metadata": {},
   "source": [
    "Thanks to the `@time` macro, we can see that this calculation takes about 20 seconds and uses a whole lot of memory. Pretty bad, but this is an extremeley naive way of doing things, especially since our initial state is unentangled and the Hamiltonian we're time-evolving under doesn't generate additional entanglement. Using block evolution on a MPS representation of $|\\psi\\rangle$ effectively takes advantage of this structure. With this method, we only do twelve $2\\times2$ matrix-vector multiplications, and since our initial state was unentangled the result is exact. Were our initial state (or system Hamiltonian) more highly entangled (entangling) the MPS representation (block evolution) would do a poorer job approximating the full matrix multiplication."
   ]
  },
  {
   "cell_type": "code",
   "execution_count": 7,
   "id": "ordered-romantic",
   "metadata": {},
   "outputs": [
    {
     "name": "stdout",
     "output_type": "stream",
     "text": [
      "  2.308709 seconds (8.03 M allocations: 437.783 MiB, 5.19% gc time, 99.56% compilation time)\n"
     ]
    },
    {
     "data": {
      "text/plain": [
       "4096-element Vector{ComplexF64}:\n",
       "      0.1779785156250009 - 7.705139889271523e-35im\n",
       "  -4.448564589214635e-35 - 0.10275594390606424im\n",
       "  -1.689546579027104e-35 - 0.10275594390606424im\n",
       "    -0.05932617187500025 + 9.754601722097095e-36im\n",
       "   7.323680981525651e-35 - 0.10275594390606425im\n",
       "    -0.05932617187500026 - 4.228329186142776e-35im\n",
       "   -0.059326171875000264 - 1.605902076541324e-35im\n",
       "  -9.271679961833121e-36 + 0.034251981302021395im\n",
       "  -4.448564589214636e-35 - 0.10275594390606424im\n",
       "    -0.05932617187500025 + 2.568379963090506e-35im\n",
       "    -0.05932617187500025 + 9.754601722097097e-36im\n",
       "  5.6318219300903436e-36 + 0.03425198130202139im\n",
       "    -0.05932617187500027 - 4.2283291861427763e-35im\n",
       "                         ⋮\n",
       "   9.041581458673635e-37 - 0.0012685919000748663im\n",
       "  -0.0007324218750000026 - 5.22015948906515e-37im\n",
       "  -0.0007324218750000027 - 1.982595156223855e-37im\n",
       " -1.1446518471398905e-37 + 0.0004228639666916218im\n",
       "  -5.492055048413126e-37 - 0.001268591900074866im\n",
       "  -0.0007324218750000024 + 3.1708394606055605e-37im\n",
       "  -0.0007324218750000025 + 1.2042718175428501e-37im\n",
       "   6.952866580358441e-38 + 0.0004228639666916217im\n",
       "  -0.0007324218750000025 - 5.22015948906515e-37im\n",
       " -3.0138604862245426e-37 + 0.0004228639666916217im\n",
       " -1.1446518471398905e-37 + 0.00042286396669162176im\n",
       "  0.00024414062500000065 + 6.608650520746179e-38im"
      ]
     },
     "execution_count": 7,
     "metadata": {},
     "output_type": "execute_result"
    }
   ],
   "source": [
    "# The fast way\n",
    "local_only_ising = Hamiltonian(0 * (σ_z ⊗ σ_z), σ_x)\n",
    "@time ψ_res = reshape(contract_mps(block_evolve(ψ_mps, local_only_ising, t * -1im)), 2^sites)"
   ]
  },
  {
   "cell_type": "markdown",
   "id": "norwegian-essex",
   "metadata": {},
   "source": [
    "To prove the two results are equal:"
   ]
  },
  {
   "cell_type": "code",
   "execution_count": 8,
   "id": "desperate-investment",
   "metadata": {},
   "outputs": [
    {
     "data": {
      "text/plain": [
       "1.0000000000000018 - 1.2379560085042535e-34im"
      ]
     },
     "execution_count": 8,
     "metadata": {},
     "output_type": "execute_result"
    }
   ],
   "source": [
    "dot(ψ_res_vect, ψ_res)"
   ]
  },
  {
   "cell_type": "markdown",
   "id": "parallel-former",
   "metadata": {},
   "source": [
    "Let's switch to a full 1D Ising model. Now\n",
    "$$\\hat{H}=\\sum_{i=1}^{N-1}\\sigma_z^{(i)}\\sigma_z^{(i+1)}+J\\sum_{i=1}^N\\sigma_x^{(i)}$$\n",
    "where $J$ tunes the relative strength of the transverse field. For this example we set $J=1.$\n",
    "\n",
    "Since now $\\hat{H}$ generates entanglement, the fidelity of the block-evolved state will not be as high as $t$ grows."
   ]
  },
  {
   "cell_type": "code",
   "execution_count": 9,
   "id": "cross-desperate",
   "metadata": {},
   "outputs": [
    {
     "name": "stdout",
     "output_type": "stream",
     "text": [
      " 26.656989 seconds (46 allocations: 4.625 GiB, 0.60% gc time)\n"
     ]
    },
    {
     "data": {
      "text/plain": [
       "4096-element Vector{ComplexF64}:\n",
       "     0.29784907575844494 - 0.12009697957275987im\n",
       "     0.03634436868460402 - 0.16293484550907714im\n",
       "     0.09654847370992732 - 0.09095118660081994im\n",
       "    -0.07113605814760757 - 0.05259950195585174im\n",
       "     0.09186977602732573 - 0.09257112598573201im\n",
       "   -0.010434946441878612 - 0.06826579407664689im\n",
       "   -0.024114299625164915 - 0.07561913090078207im\n",
       "   -0.040518920541511086 + 0.02295149606526123im\n",
       "     0.09215514759497268 - 0.09266111666055488im\n",
       "   -0.012571664046359515 - 0.0666175975600081im\n",
       "    0.023814429341693148 - 0.04904671741692144im\n",
       "    -0.03531296770389746 - 0.00959268034582396im\n",
       "    -0.02551799874030579 - 0.0732900781298512im\n",
       "                         ⋮\n",
       "  -0.0007266283528538789 + 0.0002764548462853698im\n",
       " -0.00011164052658427855 + 0.000396427410384179im\n",
       "   -5.229592898605845e-5 + 0.0004729492134346979im\n",
       "   0.0002774308701005088 - 2.711314362155868e-5im\n",
       " -0.00041153487916395314 + 0.0009021640528471665im\n",
       "   0.0002647708218863237 + 0.0004410618098450794im\n",
       "   -3.729016943400955e-5 + 0.0004147782417018937im\n",
       "   0.0002774935268042126 - 2.7037167744098795e-5im\n",
       "   0.0003452392486424359 + 0.0003902270720948637im\n",
       "   0.0002757648342292644 - 2.630557057113944e-5im\n",
       "  0.00026921239253501584 - 7.736870326834176e-5im\n",
       "   -7.281075970349243e-5 - 0.0001466996227305542im"
      ]
     },
     "execution_count": 9,
     "metadata": {},
     "output_type": "execute_result"
    }
   ],
   "source": [
    "# The not as fast way\n",
    "t = π/6\n",
    "# Set H to the full ising matrix as above:\n",
    "H = ising_matrix(sites, false)\n",
    "ψ_vect = zeros(2^sites)\n",
    "ψ_vect[1] = 1\n",
    "\n",
    "# Naive method: do the matrix exponential followed by a matrix-vector multiplication.\n",
    "@time ψ_res_vect = exp(H * t * -1im) * ψ_vect"
   ]
  },
  {
   "cell_type": "code",
   "execution_count": 10,
   "id": "mobile-quick",
   "metadata": {
    "scrolled": false
   },
   "outputs": [
    {
     "name": "stdout",
     "output_type": "stream",
     "text": [
      "  0.005585 seconds (134.93 k allocations: 9.758 MiB)\n"
     ]
    },
    {
     "data": {
      "text/plain": [
       "4096-element Vector{ComplexF64}:\n",
       "      0.2636456437307441 - 0.03190778123011212im\n",
       "     0.13342159770239706 - 0.07554946229865185im\n",
       "      0.1272377810087296 + 0.009275725040501233im\n",
       "    0.005355342349062327 - 0.0734607671164807im\n",
       "     0.12723778100872957 + 0.009275725040501254im\n",
       "     0.06986968593408303 - 0.023310748261050417im\n",
       "     0.03761251414157269 - 0.04838575768876558im\n",
       "   -0.027935530226552815 - 0.02171559516453559im\n",
       "     0.12723778100872965 + 0.0092757250405013im\n",
       "     0.06986968593408309 - 0.023310748261050424im\n",
       "     0.05913012792100387 + 0.01610933701961883im\n",
       "    0.009300730064743332 - 0.03413879527240859im\n",
       "     0.03761251414157272 - 0.04838575768876557im\n",
       "                         ⋮\n",
       " -0.00021741980318665746 - 0.00037658214569091667im\n",
       " -0.00019949443066899643 - 0.00015241544067346377im\n",
       " -0.00020845711692782707 - 1.3444029388245772e-5im\n",
       "   -7.761913986296907e-6 + 0.00012035277257277423im\n",
       "  -0.0004312372895557145 + 5.585591613733147e-5im\n",
       " -0.00021741980318665748 + 0.00012552738189697233im\n",
       " -0.00020845711692782704 - 1.3444029388245691e-5im\n",
       "   -7.761913986296866e-6 + 0.00012035277257277423im\n",
       "   -9.258568748446808e-5 + 0.00018725117355328425im\n",
       "   -7.761913986296917e-6 + 0.00012035277257277419im\n",
       "   5.0173800735382564e-5 + 8.690357208251923e-5im\n",
       "    5.017380073538251e-5 - 2.8967857360839756e-5im"
      ]
     },
     "execution_count": 10,
     "metadata": {},
     "output_type": "execute_result"
    }
   ],
   "source": [
    "ising = Hamiltonian(σ_z ⊗ σ_z, σ_x)\n",
    "@time ψ_res = reshape(contract_mps(block_evolve(ψ_mps, ising, t * -1im)), 2^sites)"
   ]
  },
  {
   "cell_type": "code",
   "execution_count": 11,
   "id": "described-birthday",
   "metadata": {},
   "outputs": [
    {
     "data": {
      "text/plain": [
       "0.21694345086338168 + 0.784587895340711im"
      ]
     },
     "execution_count": 11,
     "metadata": {},
     "output_type": "execute_result"
    }
   ],
   "source": [
    "dot(ψ_res_vect, ψ_res)"
   ]
  },
  {
   "cell_type": "markdown",
   "id": "fresh-trouble",
   "metadata": {},
   "source": [
    "The single-pass TEBD state $|\\psi\\rangle$ is not a very good approximation to the true time-evolved target state $|\\phi\\rangle$. This is expected since even disregarding the fact that we used a matrix product state, \n",
    "    $$e^{-i\\left(\\sum_{i=1}^NZ_iZ_{i+1}+\\sum_{i=1}^NX_i\\right)t}\\neq\\prod_{i=1}^{N-1}e^{-iZ_iZ_{i+1}t}\\prod_{i=1}^{N}e^{-iX_it}$$\n",
    "More succinctly, a single pass of TEBD is essentially a [Trotter Decomposition](https://en.wikipedia.org/wiki/Time-evolving_block_decimation#The_Suzuki%E2%80%93Trotter_expansion) for approximating time evolution under $\\hat{H}$.\n",
    "\n",
    "To better approximate the target state $|\\phi\\rangle$, we can instead do ten passes of block evolution and increase the bond dimension of $|\\psi\\rangle$, sacrificing memory and runtime:"
   ]
  },
  {
   "cell_type": "code",
   "execution_count": 12,
   "id": "solar-swift",
   "metadata": {},
   "outputs": [
    {
     "name": "stdout",
     "output_type": "stream",
     "text": [
      "  7.295188 seconds (76.52 M allocations: 9.291 GiB, 5.38% gc time, 1.28% compilation time)\n"
     ]
    },
    {
     "data": {
      "text/plain": [
       "0.9944260944838871 - 0.09073247654456926im"
      ]
     },
     "execution_count": 12,
     "metadata": {},
     "output_type": "execute_result"
    }
   ],
   "source": [
    "ψ_mps_high_χ = mps(ψ, 2^(sites ÷ 2))\n",
    "@time ψ_res_better = reshape(contract_mps(tebd(ψ_mps_high_χ, ising, t * -1im, 10)), 2^sites)\n",
    "dot(ψ_res_better, ψ_res_vect)"
   ]
  },
  {
   "cell_type": "markdown",
   "id": "shaped-overall",
   "metadata": {},
   "source": [
    "Let's visualize time evolution under the two Hamiltonians we've just discussed. We'll evaluate the expectation value $\\langle\\sigma_z\\rangle$ on each site in the chain over a time period that amounts to a single full rotation under $\\hat{H}$. We can plot the resulting values under a few different bond dimensions $\\chi$:"
   ]
  },
  {
   "cell_type": "code",
   "execution_count": 15,
   "id": "brilliant-wellington",
   "metadata": {},
   "outputs": [
    {
     "data": {
      "text/plain": [
       "run_simulation (generic function with 1 method)"
      ]
     },
     "execution_count": 15,
     "metadata": {},
     "output_type": "execute_result"
    }
   ],
   "source": [
    "using Images, ColorSchemes\n",
    "\n",
    "# Simulate time evolution under a 1D ising with and without local\n",
    "# interactions. Evolve\n",
    "function run_simulation(χ)\n",
    "    ψ_mps_med_χ = mps(ψ, χ)\n",
    "\n",
    "    ising_vals = []\n",
    "    res = 50\n",
    "    println(\"Ising model\")\n",
    "    @time for t in 1:res\n",
    "        ψ_evolved = tebd(ψ_mps_med_χ, ising, t * -1im * 2 * π / res, 10)\n",
    "        expectations = []\n",
    "        for site in 1:sites\n",
    "            push!(expectations, eval_local_op(ψ_evolved, σ_z, site))\n",
    "        end\n",
    "        push!(ising_vals, expectations)\n",
    "    end\n",
    "\n",
    "    local_vals = []\n",
    "    println(\"Transverse magnetic field\")\n",
    "    @time for t in 1:res\n",
    "        ψ_evolved = tebd(ψ_mps_med_χ, local_only_ising, t * -1im * 2 * π / res, 10)\n",
    "        expectations = []\n",
    "        for site in 1:sites\n",
    "            push!(expectations, eval_local_op(ψ_evolved, σ_z, site))\n",
    "        end\n",
    "        push!(local_vals, expectations)\n",
    "    end\n",
    "    \n",
    "    ising_sites_over_time = real.(transpose(hcat(ising_vals...)))\n",
    "    local_sites_over_time = real.(transpose(hcat(local_vals...)))\n",
    "\n",
    "    function colormap(x)\n",
    "        return get(ColorSchemes.coolwarm, x)\n",
    "    end\n",
    "\n",
    "    ising_visual = colormap.(ising_sites_over_time)\n",
    "    local_visual = colormap.(local_sites_over_time)\n",
    "\n",
    "    display(\"Expectation of σ_z for each site over time\")\n",
    "    display(\"Local interation only (σ_x):\")\n",
    "    display(local_visual)\n",
    "    display(\"Ising model:\")\n",
    "    display(ising_visual)\n",
    "end"
   ]
  },
  {
   "cell_type": "code",
   "execution_count": 16,
   "id": "eastern-mercy",
   "metadata": {},
   "outputs": [
    {
     "name": "stdout",
     "output_type": "stream",
     "text": [
      "Ising model\n",
      "  0.792952 seconds (14.74 M allocations: 3.144 GiB, 13.34% gc time, 0.39% compilation time)\n",
      "Transverse magnetic field\n"
     ]
    },
    {
     "data": {
      "text/plain": [
       "\"Expectation of σ_z for each site over time\""
      ]
     },
     "metadata": {},
     "output_type": "display_data"
    },
    {
     "data": {
      "text/plain": [
       "\"Local interation only (σ_x):\""
      ]
     },
     "metadata": {},
     "output_type": "display_data"
    },
    {
     "data": {
      "image/png": "[encoded data removed]",
      "text/plain": [
       "50×12 Array{RGB{Float64},2} with eltype RGB{Float64}:\n",
       " RGB{Float64}(0.752664,0.15614,0.184378)    …  RGB{Float64}(0.705673,0.0155562,0.150233)\n",
       " RGB{Float64}(0.867508,0.375369,0.298653)      RGB{Float64}(0.705673,0.0155562,0.150233)\n",
       " RGB{Float64}(0.963931,0.634863,0.514408)      RGB{Float64}(0.705673,0.0155562,0.150233)\n",
       " RGB{Float64}(0.901645,0.845781,0.814089)      RGB{Float64}(0.705673,0.0155562,0.150233)\n",
       " RGB{Float64}(0.634384,0.755823,0.998266)      RGB{Float64}(0.705673,0.0155562,0.150233)\n",
       " RGB{Float64}(0.304293,0.406963,0.845095)   …  RGB{Float64}(0.705673,0.0155562,0.150233)\n",
       " RGB{Float64}(0.229806,0.298718,0.753683)      RGB{Float64}(0.705673,0.0155562,0.150233)\n",
       " RGB{Float64}(0.229806,0.298718,0.753683)      RGB{Float64}(0.705673,0.0155562,0.150233)\n",
       " RGB{Float64}(0.229806,0.298718,0.753683)      RGB{Float64}(0.705673,0.0155562,0.150233)\n",
       " RGB{Float64}(0.229806,0.298718,0.753683)      RGB{Float64}(0.705673,0.0155562,0.150233)\n",
       " RGB{Float64}(0.229806,0.298718,0.753683)   …  RGB{Float64}(0.705673,0.0155562,0.150233)\n",
       " RGB{Float64}(0.229806,0.298718,0.753683)      RGB{Float64}(0.705673,0.0155562,0.150233)\n",
       " RGB{Float64}(0.229806,0.298718,0.753683)      RGB{Float64}(0.705673,0.0155562,0.150233)\n",
       " ⋮                                          ⋱  \n",
       " RGB{Float64}(0.229806,0.298718,0.753683)      RGB{Float64}(0.705673,0.0155562,0.150233)\n",
       " RGB{Float64}(0.229806,0.298718,0.753683)      RGB{Float64}(0.705673,0.0155562,0.150233)\n",
       " RGB{Float64}(0.229806,0.298718,0.753683)   …  RGB{Float64}(0.705673,0.0155562,0.150233)\n",
       " RGB{Float64}(0.229806,0.298718,0.753683)      RGB{Float64}(0.705673,0.0155562,0.150233)\n",
       " RGB{Float64}(0.229806,0.298718,0.753683)      RGB{Float64}(0.705673,0.0155562,0.150233)\n",
       " RGB{Float64}(0.304293,0.406963,0.845095)      RGB{Float64}(0.705673,0.0155562,0.150233)\n",
       " RGB{Float64}(0.634384,0.755823,0.998266)      RGB{Float64}(0.705673,0.0155562,0.150233)\n",
       " RGB{Float64}(0.901645,0.845781,0.814089)   …  RGB{Float64}(0.705673,0.0155562,0.150233)\n",
       " RGB{Float64}(0.963931,0.634863,0.514408)      RGB{Float64}(0.705673,0.0155562,0.150233)\n",
       " RGB{Float64}(0.867508,0.375369,0.298653)      RGB{Float64}(0.705673,0.0155562,0.150233)\n",
       " RGB{Float64}(0.752664,0.15614,0.184378)       RGB{Float64}(0.705673,0.0155562,0.150233)\n",
       " RGB{Float64}(0.705673,0.0155562,0.150233)     RGB{Float64}(0.705673,0.0155562,0.150233)"
      ]
     },
     "metadata": {},
     "output_type": "display_data"
    },
    {
     "data": {
      "text/plain": [
       "\"Ising model:\""
      ]
     },
     "metadata": {},
     "output_type": "display_data"
    },
    {
     "data": {
      "image/png": "[encoded data removed]",
      "text/plain": [
       "50×12 Array{RGB{Float64},2} with eltype RGB{Float64}:\n",
       " RGB{Float64}(0.752437,0.155673,0.184189)  …  RGB{Float64}(0.705696,0.0156261,0.15025)\n",
       " RGB{Float64}(0.864924,0.370244,0.295216)     RGB{Float64}(0.706975,0.0194933,0.151174)\n",
       " RGB{Float64}(0.960445,0.616032,0.495218)     RGB{Float64}(0.717697,0.0519104,0.158926)\n",
       " RGB{Float64}(0.930795,0.818713,0.75885)      RGB{Float64}(0.756177,0.163374,0.187303)\n",
       " RGB{Float64}(0.744721,0.825626,0.965315)     RGB{Float64}(0.831916,0.307941,0.256722)\n",
       " RGB{Float64}(0.515058,0.65337,0.986114)   …  RGB{Float64}(0.920545,0.489614,0.382098)\n",
       " RGB{Float64}(0.326981,0.437535,0.867971)     RGB{Float64}(0.968092,0.668289,0.550277)\n",
       " RGB{Float64}(0.229806,0.298718,0.753683)     RGB{Float64}(0.950441,0.78799,0.706504)\n",
       " RGB{Float64}(0.229806,0.298718,0.753683)     RGB{Float64}(0.913181,0.836341,0.793779)\n",
       " RGB{Float64}(0.229806,0.298718,0.753683)     RGB{Float64}(0.90585,0.84234,0.806685)\n",
       " RGB{Float64}(0.229806,0.298718,0.753683)  …  RGB{Float64}(0.919263,0.831241,0.782921)\n",
       " RGB{Float64}(0.23923,0.312786,0.766045)      RGB{Float64}(0.928186,0.822106,0.764976)\n",
       " RGB{Float64}(0.300813,0.402196,0.841427)     RGB{Float64}(0.923727,0.827029,0.774381)\n",
       " ⋮                                         ⋱  \n",
       " RGB{Float64}(0.941574,0.804371,0.733149)     RGB{Float64}(0.969891,0.694914,0.580194)\n",
       " RGB{Float64}(0.8528,0.863358,0.879468)       RGB{Float64}(0.96891,0.71011,0.598998)\n",
       " RGB{Float64}(0.866971,0.863389,0.862763)  …  RGB{Float64}(0.969024,0.708383,0.596859)\n",
       " RGB{Float64}(0.889476,0.853164,0.832303)     RGB{Float64}(0.969576,0.689973,0.574626)\n",
       " RGB{Float64}(0.957121,0.600511,0.479818)     RGB{Float64}(0.968071,0.667994,0.549947)\n",
       " RGB{Float64}(0.951205,0.578624,0.459245)     RGB{Float64}(0.968837,0.711233,0.600389)\n",
       " RGB{Float64}(0.966599,0.650436,0.53047)      RGB{Float64}(0.964253,0.747064,0.646626)\n",
       " RGB{Float64}(0.872471,0.861812,0.855671)  …  RGB{Float64}(0.96708,0.734916,0.629887)\n",
       " RGB{Float64}(0.616851,0.742198,0.999028)     RGB{Float64}(0.968373,0.718271,0.609107)\n",
       " RGB{Float64}(0.612435,0.738756,0.999201)     RGB{Float64}(0.969662,0.691325,0.57615)\n",
       " RGB{Float64}(0.44008,0.575387,0.95399)       RGB{Float64}(0.967834,0.664696,0.546253)\n",
       " RGB{Float64}(0.253028,0.333382,0.784144)     RGB{Float64}(0.963716,0.633703,0.513226)"
      ]
     },
     "metadata": {},
     "output_type": "display_data"
    },
    {
     "name": "stdout",
     "output_type": "stream",
     "text": [
      "  0.744244 seconds (14.73 M allocations: 3.143 GiB, 8.77% gc time)\n"
     ]
    }
   ],
   "source": [
    "run_simulation(2)"
   ]
  },
  {
   "cell_type": "code",
   "execution_count": 17,
   "id": "dutch-offer",
   "metadata": {},
   "outputs": [
    {
     "name": "stdout",
     "output_type": "stream",
     "text": [
      "Ising model\n",
      "  7.782217 seconds (193.09 M allocations: 35.506 GiB, 8.56% gc time, 0.83% compilation time)\n",
      "Transverse magnetic field\n"
     ]
    },
    {
     "data": {
      "text/plain": [
       "\"Expectation of σ_z for each site over time\""
      ]
     },
     "metadata": {},
     "output_type": "display_data"
    },
    {
     "data": {
      "text/plain": [
       "\"Local interation only (σ_x):\""
      ]
     },
     "metadata": {},
     "output_type": "display_data"
    },
    {
     "data": {
      "image/png": "[encoded data removed]",
      "text/plain": [
       "50×12 Array{RGB{Float64},2} with eltype RGB{Float64}:\n",
       " RGB{Float64}(0.752664,0.15614,0.184378)    …  RGB{Float64}(0.705673,0.0155562,0.150233)\n",
       " RGB{Float64}(0.867508,0.375369,0.298653)      RGB{Float64}(0.705673,0.0155562,0.150233)\n",
       " RGB{Float64}(0.963931,0.634863,0.514408)      RGB{Float64}(0.705673,0.0155562,0.150233)\n",
       " RGB{Float64}(0.901645,0.845781,0.814089)      RGB{Float64}(0.705673,0.0155562,0.150233)\n",
       " RGB{Float64}(0.634384,0.755823,0.998266)      RGB{Float64}(0.705673,0.0155562,0.150233)\n",
       " RGB{Float64}(0.304293,0.406963,0.845095)   …  RGB{Float64}(0.705673,0.0155562,0.150233)\n",
       " RGB{Float64}(0.229806,0.298718,0.753683)      RGB{Float64}(0.705673,0.0155562,0.150233)\n",
       " RGB{Float64}(0.229806,0.298718,0.753683)      RGB{Float64}(0.705673,0.0155562,0.150233)\n",
       " RGB{Float64}(0.229806,0.298718,0.753683)      RGB{Float64}(0.705673,0.0155562,0.150233)\n",
       " RGB{Float64}(0.229806,0.298718,0.753683)      RGB{Float64}(0.705673,0.0155562,0.150233)\n",
       " RGB{Float64}(0.229806,0.298718,0.753683)   …  RGB{Float64}(0.705673,0.0155562,0.150233)\n",
       " RGB{Float64}(0.229806,0.298718,0.753683)      RGB{Float64}(0.705673,0.0155562,0.150233)\n",
       " RGB{Float64}(0.229806,0.298718,0.753683)      RGB{Float64}(0.705673,0.0155562,0.150233)\n",
       " ⋮                                          ⋱  \n",
       " RGB{Float64}(0.229806,0.298718,0.753683)      RGB{Float64}(0.705673,0.0155562,0.150233)\n",
       " RGB{Float64}(0.229806,0.298718,0.753683)      RGB{Float64}(0.705673,0.0155562,0.150233)\n",
       " RGB{Float64}(0.229806,0.298718,0.753683)   …  RGB{Float64}(0.705673,0.0155562,0.150233)\n",
       " RGB{Float64}(0.229806,0.298718,0.753683)      RGB{Float64}(0.705673,0.0155562,0.150233)\n",
       " RGB{Float64}(0.229806,0.298718,0.753683)      RGB{Float64}(0.705673,0.0155562,0.150233)\n",
       " RGB{Float64}(0.304293,0.406963,0.845095)      RGB{Float64}(0.705673,0.0155562,0.150233)\n",
       " RGB{Float64}(0.634384,0.755823,0.998266)      RGB{Float64}(0.705673,0.0155562,0.150233)\n",
       " RGB{Float64}(0.901645,0.845781,0.814089)   …  RGB{Float64}(0.705673,0.0155562,0.150233)\n",
       " RGB{Float64}(0.963931,0.634863,0.514408)      RGB{Float64}(0.705673,0.0155562,0.150233)\n",
       " RGB{Float64}(0.867508,0.375369,0.298653)      RGB{Float64}(0.705673,0.0155562,0.150233)\n",
       " RGB{Float64}(0.752664,0.15614,0.184378)       RGB{Float64}(0.705673,0.0155562,0.150233)\n",
       " RGB{Float64}(0.705673,0.0155562,0.150233)     RGB{Float64}(0.705673,0.0155562,0.150233)"
      ]
     },
     "metadata": {},
     "output_type": "display_data"
    },
    {
     "data": {
      "text/plain": [
       "\"Ising model:\""
      ]
     },
     "metadata": {},
     "output_type": "display_data"
    },
    {
     "data": {
      "image/png": "[encoded data removed]",
      "text/plain": [
       "50×12 Array{RGB{Float64},2} with eltype RGB{Float64}:\n",
       " RGB{Float64}(0.752437,0.155673,0.184189)  …  RGB{Float64}(0.705696,0.0156261,0.15025)\n",
       " RGB{Float64}(0.864925,0.370244,0.295216)     RGB{Float64}(0.706975,0.0194933,0.151174)\n",
       " RGB{Float64}(0.960447,0.616042,0.495228)     RGB{Float64}(0.717697,0.0519104,0.158926)\n",
       " RGB{Float64}(0.930734,0.818792,0.758993)     RGB{Float64}(0.756177,0.163373,0.187303)\n",
       " RGB{Float64}(0.743894,0.825198,0.965728)     RGB{Float64}(0.831914,0.307937,0.25672)\n",
       " RGB{Float64}(0.511081,0.649463,0.984827)  …  RGB{Float64}(0.920533,0.489583,0.382073)\n",
       " RGB{Float64}(0.315725,0.422437,0.856763)     RGB{Float64}(0.968082,0.668144,0.550116)\n",
       " RGB{Float64}(0.229806,0.298718,0.753683)     RGB{Float64}(0.950643,0.787552,0.705819)\n",
       " RGB{Float64}(0.229806,0.298718,0.753683)     RGB{Float64}(0.914318,0.835411,0.791778)\n",
       " RGB{Float64}(0.229806,0.298718,0.753683)     RGB{Float64}(0.908651,0.840048,0.801755)\n",
       " RGB{Float64}(0.229806,0.298718,0.753683)  …  RGB{Float64}(0.924326,0.826464,0.773235)\n",
       " RGB{Float64}(0.229806,0.298718,0.753683)     RGB{Float64}(0.936759,0.810955,0.744842)\n",
       " RGB{Float64}(0.229806,0.298718,0.753683)     RGB{Float64}(0.938737,0.808383,0.740198)\n",
       " ⋮                                         ⋱  \n",
       " RGB{Float64}(0.229806,0.298718,0.753683)     RGB{Float64}(0.925805,0.825069,0.770406)\n",
       " RGB{Float64}(0.229806,0.298718,0.753683)     RGB{Float64}(0.92363,0.827121,0.774567)\n",
       " RGB{Float64}(0.229806,0.298718,0.753683)  …  RGB{Float64}(0.935754,0.812262,0.747202)\n",
       " RGB{Float64}(0.235996,0.307958,0.761803)     RGB{Float64}(0.926893,0.823787,0.768013)\n",
       " RGB{Float64}(0.313447,0.419373,0.854477)     RGB{Float64}(0.929251,0.820721,0.762475)\n",
       " RGB{Float64}(0.410246,0.541506,0.935978)     RGB{Float64}(0.935898,0.812075,0.746865)\n",
       " RGB{Float64}(0.358978,0.479136,0.897266)     RGB{Float64}(0.947634,0.794071,0.716014)\n",
       " RGB{Float64}(0.350638,0.468594,0.890219)  …  RGB{Float64}(0.959673,0.766321,0.673244)\n",
       " RGB{Float64}(0.478989,0.617099,0.972925)     RGB{Float64}(0.95931,0.767844,0.675349)\n",
       " RGB{Float64}(0.538807,0.675655,0.991918)     RGB{Float64}(0.957297,0.772741,0.682807)\n",
       " RGB{Float64}(0.647752,0.76558,0.996565)      RGB{Float64}(0.960128,0.764408,0.670599)\n",
       " RGB{Float64}(0.657804,0.772588,0.994707)     RGB{Float64}(0.961937,0.756801,0.660085)"
      ]
     },
     "metadata": {},
     "output_type": "display_data"
    },
    {
     "name": "stdout",
     "output_type": "stream",
     "text": [
      "  7.667162 seconds (192.89 M allocations: 35.495 GiB, 8.51% gc time)\n"
     ]
    }
   ],
   "source": [
    "run_simulation(2^3)"
   ]
  },
  {
   "cell_type": "code",
   "execution_count": 18,
   "id": "different-tutorial",
   "metadata": {},
   "outputs": [
    {
     "name": "stdout",
     "output_type": "stream",
     "text": [
      "Ising model\n",
      " 28.639517 seconds (707.61 M allocations: 108.581 GiB, 7.64% gc time)\n",
      "Transverse magnetic field\n"
     ]
    },
    {
     "data": {
      "text/plain": [
       "\"Expectation of σ_z for each site over time\""
      ]
     },
     "metadata": {},
     "output_type": "display_data"
    },
    {
     "data": {
      "text/plain": [
       "\"Local interation only (σ_x):\""
      ]
     },
     "metadata": {},
     "output_type": "display_data"
    },
    {
     "data": {
      "image/png": "[encoded data removed]",
      "text/plain": [
       "50×12 Array{RGB{Float64},2} with eltype RGB{Float64}:\n",
       " RGB{Float64}(0.752664,0.15614,0.184378)    …  RGB{Float64}(0.705673,0.0155562,0.150233)\n",
       " RGB{Float64}(0.867508,0.375369,0.298653)      RGB{Float64}(0.705673,0.0155562,0.150233)\n",
       " RGB{Float64}(0.963931,0.634863,0.514408)      RGB{Float64}(0.705673,0.0155562,0.150233)\n",
       " RGB{Float64}(0.901645,0.845781,0.814089)      RGB{Float64}(0.705673,0.0155562,0.150233)\n",
       " RGB{Float64}(0.634384,0.755823,0.998266)      RGB{Float64}(0.705673,0.0155562,0.150233)\n",
       " RGB{Float64}(0.304293,0.406963,0.845095)   …  RGB{Float64}(0.705673,0.0155562,0.150233)\n",
       " RGB{Float64}(0.229806,0.298718,0.753683)      RGB{Float64}(0.705673,0.0155562,0.150233)\n",
       " RGB{Float64}(0.229806,0.298718,0.753683)      RGB{Float64}(0.705673,0.0155562,0.150233)\n",
       " RGB{Float64}(0.229806,0.298718,0.753683)      RGB{Float64}(0.705673,0.0155562,0.150233)\n",
       " RGB{Float64}(0.229806,0.298718,0.753683)      RGB{Float64}(0.705673,0.0155562,0.150233)\n",
       " RGB{Float64}(0.229806,0.298718,0.753683)   …  RGB{Float64}(0.705673,0.0155562,0.150233)\n",
       " RGB{Float64}(0.229806,0.298718,0.753683)      RGB{Float64}(0.705673,0.0155562,0.150233)\n",
       " RGB{Float64}(0.229806,0.298718,0.753683)      RGB{Float64}(0.705673,0.0155562,0.150233)\n",
       " ⋮                                          ⋱  \n",
       " RGB{Float64}(0.229806,0.298718,0.753683)      RGB{Float64}(0.705673,0.0155562,0.150233)\n",
       " RGB{Float64}(0.229806,0.298718,0.753683)      RGB{Float64}(0.705673,0.0155562,0.150233)\n",
       " RGB{Float64}(0.229806,0.298718,0.753683)   …  RGB{Float64}(0.705673,0.0155562,0.150233)\n",
       " RGB{Float64}(0.229806,0.298718,0.753683)      RGB{Float64}(0.705673,0.0155562,0.150233)\n",
       " RGB{Float64}(0.229806,0.298718,0.753683)      RGB{Float64}(0.705673,0.0155562,0.150233)\n",
       " RGB{Float64}(0.304293,0.406963,0.845095)      RGB{Float64}(0.705673,0.0155562,0.150233)\n",
       " RGB{Float64}(0.634384,0.755823,0.998266)      RGB{Float64}(0.705673,0.0155562,0.150233)\n",
       " RGB{Float64}(0.901645,0.845781,0.814089)   …  RGB{Float64}(0.705673,0.0155562,0.150233)\n",
       " RGB{Float64}(0.963931,0.634863,0.514408)      RGB{Float64}(0.705673,0.0155562,0.150233)\n",
       " RGB{Float64}(0.867508,0.375369,0.298653)      RGB{Float64}(0.705673,0.0155562,0.150233)\n",
       " RGB{Float64}(0.752664,0.15614,0.184378)       RGB{Float64}(0.705673,0.0155562,0.150233)\n",
       " RGB{Float64}(0.705673,0.0155562,0.150233)     RGB{Float64}(0.705673,0.0155562,0.150233)"
      ]
     },
     "metadata": {},
     "output_type": "display_data"
    },
    {
     "data": {
      "text/plain": [
       "\"Ising model:\""
      ]
     },
     "metadata": {},
     "output_type": "display_data"
    },
    {
     "data": {
      "image/png": "[encoded data removed]",
      "text/plain": [
       "50×12 Array{RGB{Float64},2} with eltype RGB{Float64}:\n",
       " RGB{Float64}(0.75225,0.155289,0.184033)   …  RGB{Float64}(0.705673,0.0155562,0.150233)\n",
       " RGB{Float64}(0.86508,0.370546,0.295413)      RGB{Float64}(0.706712,0.0186986,0.150984)\n",
       " RGB{Float64}(0.960664,0.617214,0.496422)     RGB{Float64}(0.716634,0.048698,0.158158)\n",
       " RGB{Float64}(0.929335,0.820612,0.762279)     RGB{Float64}(0.754538,0.159999,0.185938)\n",
       " RGB{Float64}(0.741867,0.824147,0.966741)     RGB{Float64}(0.83019,0.304739,0.254895)\n",
       " RGB{Float64}(0.511474,0.649853,0.98496)   …  RGB{Float64}(0.92005,0.488381,0.381104)\n",
       " RGB{Float64}(0.311734,0.417051,0.852721)     RGB{Float64}(0.968065,0.667913,0.549857)\n",
       " RGB{Float64}(0.229806,0.298718,0.753683)     RGB{Float64}(0.950267,0.788367,0.707093)\n",
       " RGB{Float64}(0.229806,0.298718,0.753683)     RGB{Float64}(0.913328,0.836221,0.793521)\n",
       " RGB{Float64}(0.229806,0.298718,0.753683)     RGB{Float64}(0.904701,0.84328,0.808708)\n",
       " RGB{Float64}(0.229806,0.298718,0.753683)  …  RGB{Float64}(0.921107,0.829501,0.779393)\n",
       " RGB{Float64}(0.229806,0.298718,0.753683)     RGB{Float64}(0.936017,0.811921,0.746586)\n",
       " RGB{Float64}(0.229806,0.298718,0.753683)     RGB{Float64}(0.94014,0.806442,0.736763)\n",
       " ⋮                                         ⋱  \n",
       " RGB{Float64}(0.229806,0.298718,0.753683)     RGB{Float64}(0.962184,0.625424,0.504789)\n",
       " RGB{Float64}(0.318833,0.426606,0.859858)     RGB{Float64}(0.962535,0.627323,0.506724)\n",
       " RGB{Float64}(0.357673,0.477491,0.896174)  …  RGB{Float64}(0.968093,0.668298,0.550287)\n",
       " RGB{Float64}(0.421387,0.554491,0.943319)     RGB{Float64}(0.947404,0.565086,0.446649)\n",
       " RGB{Float64}(0.375957,0.500528,0.91148)      RGB{Float64}(0.960535,0.616519,0.495713)\n",
       " RGB{Float64}(0.352203,0.470599,0.891594)     RGB{Float64}(0.942581,0.549454,0.432537)\n",
       " RGB{Float64}(0.401146,0.530784,0.929766)     RGB{Float64}(0.94262,0.549571,0.432639)\n",
       " RGB{Float64}(0.444132,0.579834,0.956149)  …  RGB{Float64}(0.868077,0.3765,0.299413)\n",
       " RGB{Float64}(0.397468,0.52645,0.927255)      RGB{Float64}(0.807782,0.263595,0.23261)\n",
       " RGB{Float64}(0.502169,0.640639,0.981817)     RGB{Float64}(0.911187,0.467718,0.365045)\n",
       " RGB{Float64}(0.680202,0.788205,0.990565)     RGB{Float64}(0.927634,0.507494,0.396628)\n",
       " RGB{Float64}(0.59054,0.721156,0.999113)      RGB{Float64}(0.941806,0.547142,0.43051)"
      ]
     },
     "metadata": {},
     "output_type": "display_data"
    },
    {
     "name": "stdout",
     "output_type": "stream",
     "text": [
      " 28.490186 seconds (707.61 M allocations: 108.580 GiB, 7.87% gc time)\n"
     ]
    }
   ],
   "source": [
    "run_simulation(2^4)"
   ]
  },
  {
   "cell_type": "code",
   "execution_count": 19,
   "id": "fixed-public",
   "metadata": {},
   "outputs": [
    {
     "name": "stdout",
     "output_type": "stream",
     "text": [
      "Ising model\n",
      "112.657383 seconds (2.36 G allocations: 292.300 GiB, 7.19% gc time)\n",
      "Transverse magnetic field\n"
     ]
    },
    {
     "data": {
      "text/plain": [
       "\"Expectation of σ_z for each site over time\""
      ]
     },
     "metadata": {},
     "output_type": "display_data"
    },
    {
     "data": {
      "text/plain": [
       "\"Local interation only (σ_x):\""
      ]
     },
     "metadata": {},
     "output_type": "display_data"
    },
    {
     "data": {
      "image/png": "[encoded data removed]",
      "text/plain": [
       "50×12 Array{RGB{Float64},2} with eltype RGB{Float64}:\n",
       " RGB{Float64}(0.752664,0.15614,0.184378)    …  RGB{Float64}(0.705673,0.0155562,0.150233)\n",
       " RGB{Float64}(0.867508,0.375369,0.298653)      RGB{Float64}(0.705673,0.0155562,0.150233)\n",
       " RGB{Float64}(0.963931,0.634863,0.514408)      RGB{Float64}(0.705673,0.0155562,0.150233)\n",
       " RGB{Float64}(0.901645,0.845781,0.814089)      RGB{Float64}(0.705673,0.0155562,0.150233)\n",
       " RGB{Float64}(0.634384,0.755823,0.998266)      RGB{Float64}(0.705673,0.0155562,0.150233)\n",
       " RGB{Float64}(0.304293,0.406963,0.845095)   …  RGB{Float64}(0.705673,0.0155562,0.150233)\n",
       " RGB{Float64}(0.229806,0.298718,0.753683)      RGB{Float64}(0.705673,0.0155562,0.150233)\n",
       " RGB{Float64}(0.229806,0.298718,0.753683)      RGB{Float64}(0.705673,0.0155562,0.150233)\n",
       " RGB{Float64}(0.229806,0.298718,0.753683)      RGB{Float64}(0.705673,0.0155562,0.150233)\n",
       " RGB{Float64}(0.229806,0.298718,0.753683)      RGB{Float64}(0.705673,0.0155562,0.150233)\n",
       " RGB{Float64}(0.229806,0.298718,0.753683)   …  RGB{Float64}(0.705673,0.0155562,0.150233)\n",
       " RGB{Float64}(0.229806,0.298718,0.753683)      RGB{Float64}(0.705673,0.0155562,0.150233)\n",
       " RGB{Float64}(0.229806,0.298718,0.753683)      RGB{Float64}(0.705673,0.0155562,0.150233)\n",
       " ⋮                                          ⋱  \n",
       " RGB{Float64}(0.229806,0.298718,0.753683)      RGB{Float64}(0.705673,0.0155562,0.150233)\n",
       " RGB{Float64}(0.229806,0.298718,0.753683)      RGB{Float64}(0.705673,0.0155562,0.150233)\n",
       " RGB{Float64}(0.229806,0.298718,0.753683)   …  RGB{Float64}(0.705673,0.0155562,0.150233)\n",
       " RGB{Float64}(0.229806,0.298718,0.753683)      RGB{Float64}(0.705673,0.0155562,0.150233)\n",
       " RGB{Float64}(0.229806,0.298718,0.753683)      RGB{Float64}(0.705673,0.0155562,0.150233)\n",
       " RGB{Float64}(0.304293,0.406963,0.845095)      RGB{Float64}(0.705673,0.0155562,0.150233)\n",
       " RGB{Float64}(0.634384,0.755823,0.998266)      RGB{Float64}(0.705673,0.0155562,0.150233)\n",
       " RGB{Float64}(0.901645,0.845781,0.814089)   …  RGB{Float64}(0.705673,0.0155562,0.150233)\n",
       " RGB{Float64}(0.963931,0.634863,0.514408)      RGB{Float64}(0.705673,0.0155562,0.150233)\n",
       " RGB{Float64}(0.867508,0.375369,0.298653)      RGB{Float64}(0.705673,0.0155562,0.150233)\n",
       " RGB{Float64}(0.752664,0.15614,0.184378)       RGB{Float64}(0.705673,0.0155562,0.150233)\n",
       " RGB{Float64}(0.705673,0.0155562,0.150233)     RGB{Float64}(0.705673,0.0155562,0.150233)"
      ]
     },
     "metadata": {},
     "output_type": "display_data"
    },
    {
     "data": {
      "text/plain": [
       "\"Ising model:\""
      ]
     },
     "metadata": {},
     "output_type": "display_data"
    },
    {
     "data": {
      "image/png": "[encoded data removed]",
      "text/plain": [
       "50×12 Array{RGB{Float64},2} with eltype RGB{Float64}:\n",
       " RGB{Float64}(0.752478,0.155758,0.184223)  …  RGB{Float64}(0.705673,0.0155562,0.150233)\n",
       " RGB{Float64}(0.866017,0.372408,0.296664)     RGB{Float64}(0.706859,0.0191405,0.15109)\n",
       " RGB{Float64}(0.961784,0.623267,0.502591)     RGB{Float64}(0.718109,0.0531558,0.159224)\n",
       " RGB{Float64}(0.922983,0.827731,0.775805)     RGB{Float64}(0.757775,0.166663,0.188633)\n",
       " RGB{Float64}(0.723347,0.814431,0.975788)     RGB{Float64}(0.834206,0.312238,0.259303)\n",
       " RGB{Float64}(0.500578,0.639064,0.981279)  …  RGB{Float64}(0.91943,0.486838,0.379859)\n",
       " RGB{Float64}(0.300125,0.401219,0.840632)     RGB{Float64}(0.967846,0.664855,0.546431)\n",
       " RGB{Float64}(0.229806,0.298718,0.753683)     RGB{Float64}(0.951814,0.785015,0.701853)\n",
       " RGB{Float64}(0.229806,0.298718,0.753683)     RGB{Float64}(0.915933,0.83409,0.788936)\n",
       " RGB{Float64}(0.229806,0.298718,0.753683)     RGB{Float64}(0.911136,0.838015,0.79738)\n",
       " RGB{Float64}(0.229806,0.298718,0.753683)  …  RGB{Float64}(0.926895,0.823785,0.768009)\n",
       " RGB{Float64}(0.229806,0.298718,0.753683)     RGB{Float64}(0.938576,0.808592,0.740576)\n",
       " RGB{Float64}(0.229806,0.298718,0.753683)     RGB{Float64}(0.940467,0.80597,0.73594)\n",
       " ⋮                                         ⋱  \n",
       " RGB{Float64}(0.33708,0.45108,0.878026)       RGB{Float64}(0.969609,0.69951,0.585869)\n",
       " RGB{Float64}(0.421233,0.554316,0.943226)     RGB{Float64}(0.969874,0.695479,0.580877)\n",
       " RGB{Float64}(0.441478,0.576922,0.954735)  …  RGB{Float64}(0.969528,0.70074,0.587393)\n",
       " RGB{Float64}(0.505675,0.644111,0.983001)     RGB{Float64}(0.969642,0.691011,0.575796)\n",
       " RGB{Float64}(0.511044,0.649427,0.984815)     RGB{Float64}(0.968111,0.668559,0.55058)\n",
       " RGB{Float64}(0.576508,0.709173,0.997802)     RGB{Float64}(0.96706,0.653897,0.534157)\n",
       " RGB{Float64}(0.590809,0.721384,0.999134)     RGB{Float64}(0.963656,0.633377,0.512894)\n",
       " RGB{Float64}(0.581773,0.713697,0.998344)  …  RGB{Float64}(0.964534,0.638187,0.517807)\n",
       " RGB{Float64}(0.543673,0.680197,0.993064)     RGB{Float64}(0.963522,0.632655,0.512158)\n",
       " RGB{Float64}(0.574934,0.707819,0.997639)     RGB{Float64}(0.964401,0.6374,0.516993)\n",
       " RGB{Float64}(0.560386,0.695318,0.996141)     RGB{Float64}(0.964912,0.640428,0.520124)\n",
       " RGB{Float64}(0.562768,0.697364,0.996387)     RGB{Float64}(0.961602,0.622285,0.50159)"
      ]
     },
     "metadata": {},
     "output_type": "display_data"
    },
    {
     "name": "stdout",
     "output_type": "stream",
     "text": [
      "112.468086 seconds (2.36 G allocations: 292.299 GiB, 7.11% gc time)\n"
     ]
    }
   ],
   "source": [
    "run_simulation(2^5)"
   ]
  },
  {
   "cell_type": "code",
   "execution_count": null,
   "id": "flush-phenomenon",
   "metadata": {},
   "outputs": [],
   "source": []
  }
 ],
 "metadata": {
  "kernelspec": {
   "display_name": "Julia 1.5.3",
   "language": "julia",
   "name": "julia-1.5"
  },
  "language_info": {
   "file_extension": ".jl",
   "mimetype": "application/julia",
   "name": "julia",
   "version": "1.6.0"
  }
 },
 "nbformat": 4,
 "nbformat_minor": 5
}
