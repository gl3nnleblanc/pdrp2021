{
 "cells": [
  {
   "cell_type": "code",
   "execution_count": 1,
   "metadata": {},
   "outputs": [],
   "source": [
    "include(\"../mps.jl\")\n",
    "using .MatrixProductState\n",
    "using LinearAlgebra\n",
    "\n",
    "using Plots"
   ]
  },
  {
   "cell_type": "code",
   "execution_count": 2,
   "metadata": {},
   "outputs": [],
   "source": [
    "r_c = 14\n",
    "r_r = 16\n",
    "\n",
    "psi_complex = rand(ComplexF32, (2 for _=1:r_c)...)\n",
    "psi_complex /= sqrt(abs(dot(psi_complex, psi_complex)))\n",
    "\n",
    "psi_real = rand(Float64, (2 for _=1:r_r)...)\n",
    "psi_real /= norm(psi_real);"
   ]
  },
  {
   "cell_type": "code",
   "execution_count": 3,
   "metadata": {},
   "outputs": [
    {
     "data": {
      "text/plain": [
       "mps_and_contract (generic function with 1 method)"
      ]
     },
     "execution_count": 3,
     "metadata": {},
     "output_type": "execute_result"
    }
   ],
   "source": [
    "# TODO: update with contraction method\n",
    "function mps_and_contract(psi, bond_dim)\n",
    "    A_mps = contract_mps(mps(psi, bond_dim))\n",
    "    return abs(dot(A_mps, psi))\n",
    "end"
   ]
  },
  {
   "cell_type": "code",
   "execution_count": null,
   "metadata": {},
   "outputs": [
    {
     "name": "stdout",
     "output_type": "stream",
     "text": [
      "Float32["
     ]
    }
   ],
   "source": [
    "bond_dims = [2, 4, 6, 8, 10, 12, 16, 32, 64, 128, 256, 512, 560]\n",
    "complex_fidelities = map(chi->mps_and_contract(psi_complex, chi),\n",
    "                         bond_dims)\n",
    "print(complex_fidelities)\n",
    "plot(bond_dims, complex_fidelities) # ? "
   ]
  },
  {
   "cell_type": "code",
   "execution_count": null,
   "metadata": {},
   "outputs": [],
   "source": [
    "real_fidelities = map(chi->mps_and_contract(psi_real, chi),\n",
    "                      bond_dims)\n",
    "print(real_fidelities)\n",
    "plot(bond_dims, real_fidelities)"
   ]
  },
  {
   "cell_type": "code",
   "execution_count": null,
   "metadata": {},
   "outputs": [],
   "source": []
  }
 ],
 "metadata": {
  "kernelspec": {
   "display_name": "Julia 1.5.3",
   "language": "julia",
   "name": "julia-1.5"
  },
  "language_info": {
   "file_extension": ".jl",
   "mimetype": "application/julia",
   "name": "julia",
   "version": "1.5.3"
  }
 },
 "nbformat": 4,
 "nbformat_minor": 4
}
