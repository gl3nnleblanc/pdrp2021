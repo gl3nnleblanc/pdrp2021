{
 "cells": [
  {
   "cell_type": "code",
   "execution_count": 14,
   "metadata": {},
   "outputs": [
    {
     "name": "stderr",
     "output_type": "stream",
     "text": [
      "WARNING: replacing module MatrixProductState.\n",
      "WARNING: using MatrixProductState.mps in module Main conflicts with an existing identifier.\n"
     ]
    }
   ],
   "source": [
    "include(\"../mps.jl\")\n",
    "using .MatrixProductState\n",
    "using LinearAlgebra\n",
    "\n",
    "using Plots"
   ]
  },
  {
   "cell_type": "code",
   "execution_count": 24,
   "metadata": {},
   "outputs": [],
   "source": [
    "psi = rand(ComplexF32, (2 for _=1:4)...);"
   ]
  },
  {
   "cell_type": "code",
   "execution_count": 25,
   "metadata": {
    "scrolled": false
   },
   "outputs": [
    {
     "ename": "LoadError",
     "evalue": "\u001b[91mInexactError: Float64(-0.13760974f0 - 0.21008754f0im)\u001b[39m",
     "output_type": "error",
     "traceback": [
      "\u001b[91mInexactError: Float64(-0.13760974f0 - 0.21008754f0im)\u001b[39m",
      "",
      "Stacktrace:",
      " [1] Real at ./complex.jl:37 [inlined]",
      " [2] convert at ./number.jl:7 [inlined]",
      " [3] setindex! at ./array.jl:847 [inlined]",
      " [4] _unsafe_copyto!(::Array{Float64,2}, ::Int64, ::Array{Complex{Float32},2}, ::Int64, ::Int64) at ./array.jl:257",
      " [5] unsafe_copyto! at ./array.jl:311 [inlined]",
      " [6] _copyto_impl! at ./array.jl:335 [inlined]",
      " [7] copyto! at ./array.jl:321 [inlined]",
      " [8] copyto! at ./array.jl:347 [inlined]",
      " [9] copyto_axcheck! at ./abstractarray.jl:946 [inlined]",
      " [10] Array{Float64,2}(::Array{Complex{Float32},2}) at ./array.jl:562",
      " [11] Array at ./boot.jl:431 [inlined]",
      " [12] convert at ./array.jl:554 [inlined]",
      " [13] mps(::Array{Complex{Float32},4}, ::Int64) at /home/glenn/UCB/directed_reading/pdrp2021/mps.jl:56",
      " [14] mps(::Array{Complex{Float32},4}) at /home/glenn/UCB/directed_reading/pdrp2021/mps.jl:36",
      " [15] top-level scope at In[25]:1"
     ]
    }
   ],
   "source": [
    "sites = MatrixProductState.mps(psi)"
   ]
  },
  {
   "cell_type": "code",
   "execution_count": null,
   "metadata": {},
   "outputs": [],
   "source": []
  }
 ],
 "metadata": {
  "kernelspec": {
   "display_name": "Julia 1.5.3",
   "language": "julia",
   "name": "julia-1.5"
  },
  "language_info": {
   "file_extension": ".jl",
   "mimetype": "application/julia",
   "name": "julia",
   "version": "1.5.3"
  }
 },
 "nbformat": 4,
 "nbformat_minor": 4
}
